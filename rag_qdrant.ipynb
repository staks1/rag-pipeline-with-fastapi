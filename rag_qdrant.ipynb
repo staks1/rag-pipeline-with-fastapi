{
 "cells": [
  {
   "cell_type": "markdown",
   "metadata": {},
   "source": [
    "# Testing framework for creating the rag pipeline "
   ]
  },
  {
   "cell_type": "markdown",
   "metadata": {},
   "source": [
    "1. create the collection of text embeddings - we need a qdrant container to start and ignest our documents in a collection\n",
    "let's add 3-4 texts of documents about museums and their information \n",
    "2. send llm prompt + use qdrant method to query the knoweledge base \n",
    "results = client.query_points , check if it has options for top-k or similarity type\n",
    "3. when querying the vector database if all top-k answers are below a threshold then answer with \"i do not know\""
   ]
  },
  {
   "cell_type": "markdown",
   "metadata": {},
   "source": [
    "##### First we have started a qdrant container that is running the vector database, so we need to connect to our database (this is run as a different service, so for now we do not worry about the setup step)"
   ]
  },
  {
   "cell_type": "code",
   "execution_count": 68,
   "metadata": {},
   "outputs": [],
   "source": [
    "import tiktoken\n",
    "import numpy as np "
   ]
  },
  {
   "cell_type": "code",
   "execution_count": 112,
   "metadata": {},
   "outputs": [],
   "source": [
    "from qdrant_client import QdrantClient\n",
    "\n",
    "client = QdrantClient(url=\"http://localhost:6333\")"
   ]
  },
  {
   "cell_type": "markdown",
   "metadata": {},
   "source": [
    "- create simple collection of vectors - choose dim=384 and cosine similarity as distance"
   ]
  },
  {
   "cell_type": "code",
   "execution_count": 111,
   "metadata": {},
   "outputs": [],
   "source": [
    "from qdrant_client.models import Distance, VectorParams,models\n",
    "\n",
    "# client.create_collection(\n",
    "#     collection_name=\"museum_collection\",\n",
    "#     vectors_config=models.VectorParams(size=384, distance=models.Distance.COSINE)\n",
    "#)"
   ]
  },
  {
   "cell_type": "markdown",
   "metadata": {},
   "source": [
    "- we now need to select an embedding model to encode our text documents so we can insert them into the collection\n",
    "- we can use sentence transformers + bge small - en"
   ]
  },
  {
   "cell_type": "markdown",
   "metadata": {},
   "source": [
    "# Questions"
   ]
  },
  {
   "cell_type": "markdown",
   "metadata": {},
   "source": [
    "- another question is how we are going to handle text paragraphs from each document. \n",
    "- let's say we have scraped the urls of 3 greek museums/foundations\n",
    "- each museum/foundation text clearly needs to be a different embedding \n",
    "- additionally how will we handle the large text paragraph for each one ? \n",
    "- we can't create one embedding for each paragraph \n",
    "- so we need to create vectors within each document embedding "
   ]
  },
  {
   "cell_type": "markdown",
   "metadata": {},
   "source": [
    "# We need to experiment for this step\n",
    "- first start by studying our documents "
   ]
  },
  {
   "cell_type": "code",
   "execution_count": 4,
   "metadata": {},
   "outputs": [],
   "source": [
    "from openai import OpenAI\n",
    "import os \n",
    "from dotenv import load_dotenv\n",
    "\n",
    "load_dotenv()\n",
    "\n",
    "api_key = os.environ['OPENAI_API_KEY']\n",
    "client = OpenAI()"
   ]
  },
  {
   "cell_type": "markdown",
   "metadata": {},
   "source": [
    "- A potential idea to explore is based on the assumption that we may have metadata for each museum so we can add those metadata to each embedding part \n",
    "- We will start with this idea\n",
    "- Knowing the museum/foundation name is potentially a strong assumption that needs investigation (maybe an option to use it if it is known)\n",
    "- Based on the Task description we make the assumption first that we can distinguish the texts into different files so we can ingest them per file "
   ]
  },
  {
   "cell_type": "code",
   "execution_count": null,
   "metadata": {},
   "outputs": [],
   "source": [
    "# # create function to ingest the files (split into chunks) paragraphs into the collection \n",
    "# import os \n",
    "# document_sources = os.listdir(\"/home/ko_st/Documents/rag_with_fastapi/rag-pipeline-with-fastapi/data\")\n",
    "# for d in document_sources:\n",
    "#     with open(os.path.join(document_sources,d),\"r\") as df:\n",
    "#         # call function to split document and ingest\n"
   ]
  },
  {
   "cell_type": "markdown",
   "metadata": {},
   "source": [
    "# Study and ingest one document"
   ]
  },
  {
   "cell_type": "code",
   "execution_count": 14,
   "metadata": {},
   "outputs": [],
   "source": [
    "with open(\"/home/ko_st/Documents/rag_with_fastapi/rag-pipeline-with-fastapi/data/d1.txt\",mode=\"r\",encoding=\"utf-8\") as df1:\n",
    "    document_content = df1.read()"
   ]
  },
  {
   "cell_type": "code",
   "execution_count": 15,
   "metadata": {},
   "outputs": [
    {
     "data": {
      "text/plain": [
       "'Acropolis Museum\\nThe Acropolis Museum (Greek: Μουσείο Ακρόπολης, Mouseio Akropolis) is an archaeological museum focused on the findings of the archaeological site of the Acropolis of Athens. The museum was built to house every artifact found on the rock and on the surrounding slopes, from the Greek Bronze Age to Roman and Byzantine Greece. The Acropolis Museum also lies over the ruins of part of Roman and early Byzantine Athens.\\nThe museum was founded in 2003 while the Organization of the Museum was established in 2008. It opened to the public on 20 June 2009.[1] More than 4,250 objects are exhibited over an area of 14,000 square metres.\\nThe museum is located by the southeastern slope of the Acropolis hill, on the ancient road that led up to the \"sacred rock\" in classical times. Set only 280 meters (310 yd), away from the Parthenon, and a 400 meters (440 yd) walking distance from it, the museum is the largest modern building erected so close to the ancient site\\nThe entrance fee to the museum was €1 for the first year and €5 thereafter. As of 2024, the entrance fee during the winter season (1 November through 30 March) is €10, and €15 during the summer season (1 April - 31 October).\\nThe excavation below ground level continues. The site and process are visible through the ground level glass flooring. As of June 2019, the site is available for visitation.\\nThe Acropolis Museum was selected as the motif for a commemorative Euro coin edition: the €10 Greek Acropolis Museum commemorative coin, minted in 2008 to mark the relocation of the museum. On the obverse is a panoramic view of the Acropolis and the new museum lies at the base.\\nReferences\\n \"Wonderful Greece\". Archived from the original on 26 July 2015. Retrieved 13 June 2013.https://web.archive.org/web/20150726210657/http://video.minpress.gr/wwwminpress/Wonderful_Greece/WG_9_3\\nhttps://www.theartnewspaper.com/2025/04/01/the-worlds-most-visited-museums-2024-\\n'"
      ]
     },
     "execution_count": 15,
     "metadata": {},
     "output_type": "execute_result"
    }
   ],
   "source": [
    "document_content"
   ]
  },
  {
   "cell_type": "markdown",
   "metadata": {},
   "source": [
    "### count sample document tokens\n",
    "- This is a required preprocessing step to make an estimation if for example it is possible to encode our whole document paragraph into one embedding or do chunk based approach. Of course this should be generic and changes per document."
   ]
  },
  {
   "cell_type": "code",
   "execution_count": 19,
   "metadata": {},
   "outputs": [],
   "source": [
    "enc = tiktoken.encoding_for_model(\"gpt-4\")\n",
    "\n",
    "token_count = len(enc.encode(document_content))\n"
   ]
  },
  {
   "cell_type": "code",
   "execution_count": 20,
   "metadata": {},
   "outputs": [
    {
     "data": {
      "text/plain": [
       "483"
      ]
     },
     "execution_count": 20,
     "metadata": {},
     "output_type": "execute_result"
    }
   ],
   "source": [
    "token_count"
   ]
  },
  {
   "cell_type": "code",
   "execution_count": 21,
   "metadata": {},
   "outputs": [
    {
     "data": {
      "text/plain": [
       "'Acropolis Museum\\nThe Acropolis Museum (Greek: Μουσείο Ακρόπολης, Mouseio Akropolis) is an archaeological museum focused on the findings of the archaeological site of the Acropolis of Athens. The museum was built to house every artifact found on the rock and on the surrounding slopes, from the Greek Bronze Age to Roman and Byzantine Greece. The Acropolis Museum also lies over the ruins of part of Roman and early Byzantine Athens.\\nThe museum was founded in 2003 while the Organization of the Museum was established in 2008. It opened to the public on 20 June 2009.[1] More than 4,250 objects are exhibited over an area of 14,000 square metres.\\nThe museum is located by the southeastern slope of the Acropolis hill, on the ancient road that led up to the \"sacred rock\" in classical times. Set only 280 meters (310 yd), away from the Parthenon, and a 400 meters (440 yd) walking distance from it, the museum is the largest modern building erected so close to the ancient site\\nThe entrance fee to the museum was €1 for the first year and €5 thereafter. As of 2024, the entrance fee during the winter season (1 November through 30 March) is €10, and €15 during the summer season (1 April - 31 October).\\nThe excavation below ground level continues. The site and process are visible through the ground level glass flooring. As of June 2019, the site is available for visitation.\\nThe Acropolis Museum was selected as the motif for a commemorative Euro coin edition: the €10 Greek Acropolis Museum commemorative coin, minted in 2008 to mark the relocation of the museum. On the obverse is a panoramic view of the Acropolis and the new museum lies at the base.\\nReferences\\n \"Wonderful Greece\". Archived from the original on 26 July 2015. Retrieved 13 June 2013.https://web.archive.org/web/20150726210657/http://video.minpress.gr/wwwminpress/Wonderful_Greece/WG_9_3\\nhttps://www.theartnewspaper.com/2025/04/01/the-worlds-most-visited-museums-2024-\\n'"
      ]
     },
     "execution_count": 21,
     "metadata": {},
     "output_type": "execute_result"
    }
   ],
   "source": [
    "document_content"
   ]
  },
  {
   "cell_type": "markdown",
   "metadata": {},
   "source": [
    "#### let's encode one document  using BGE as one embedding to study the performance of querying and granularity of embedding"
   ]
  },
  {
   "cell_type": "code",
   "execution_count": 27,
   "metadata": {},
   "outputs": [],
   "source": [
    "path = \"/home/ko_st/Documents/rag_with_fastapi/rag-pipeline-with-fastapi/data\"\n",
    "\n",
    "def get_document_content(path):\n",
    "    document_sources = os.listdir(path)\n",
    "    for d in document_sources:\n",
    "        with open(os.path.join(path,d),\"r\") as df:\n",
    "            # call function to split document and ingest\n",
    "            yield df.read()"
   ]
  },
  {
   "cell_type": "code",
   "execution_count": 28,
   "metadata": {},
   "outputs": [],
   "source": [
    "gen = iter(get_document_content(path))"
   ]
  },
  {
   "cell_type": "code",
   "execution_count": 29,
   "metadata": {},
   "outputs": [],
   "source": [
    "doc1 = next(gen)\n",
    "doc2 = next(gen)\n",
    "doc3 = next(gen)"
   ]
  },
  {
   "cell_type": "code",
   "execution_count": 51,
   "metadata": {},
   "outputs": [
    {
     "name": "stderr",
     "output_type": "stream",
     "text": [
      "Fetching 30 files: 100%|██████████| 30/30 [00:00<00:00, 5175.81it/s]\n"
     ]
    }
   ],
   "source": [
    "from FlagEmbedding import BGEM3FlagModel\n",
    "model = BGEM3FlagModel('BAAI/bge-m3',  \n",
    "                       use_fp16=True,\n",
    "                       devices='cpu') # Setting use_fp16 to True speeds up computation with a slight performance degradation\n"
   ]
  },
  {
   "cell_type": "code",
   "execution_count": 52,
   "metadata": {},
   "outputs": [
    {
     "data": {
      "text/plain": [
       "'Goulandris Museum of Cycladic Art\\nThe Nicholas P. Goulandris Foundation - Museum of Cycladic Art (Greek: Μουσείο Κυκλαδικής τέχνης) is a museum in Athens that houses a notable collection of artifacts of Cycladic art.\\n\\nThe museum was founded in 1986 in order to house the collection of Cycladic and Ancient Greek art belonging to Nicholas and Dolly Goulandris.[1] Starting in the early 1960s, the couple collected Greek antiquities, with special interest in the prehistoric art from the Cyclades islands of the Aegean Sea.[2] The museum\\'s main building, erected in the centre of Athens in 1985, was designed by the Greek architect Ioannis Vikelas [el].[3] In 1991, the Museum acquired a new building, the neo-classical Stathatos Mansion at the corner of Vassilissis Sofias Avenue and Herodotou Street.[4]\\n\\nThe museum\\'s permanent collection includes over 3,000 items, and was described in The New York Times as \"one of the world\\'s most significant privately assembled collections of Cycladic antiquities.\"\\nTemporary exhibits are housed in the Stathatos Mansion.[3] The museum\\'s temporary exhibitions have included some of the most important Greek and international modern and contemporary artists.\\nJune–September 2009: Thomas Struth\\nSeptember–October 2009: Palle Nielsen Man, Dream and Fear - Orpheus and Eurydice Through the Eyes of Palle Nielsen\\nMay–September 2010: Louise Bourgeois - Personages\\nFurther reading \\nhttps://en.wikipedia.org/wiki/Goulandris_Museum_of_Cycladic_Art#Further_reading'"
      ]
     },
     "execution_count": 52,
     "metadata": {},
     "output_type": "execute_result"
    }
   ],
   "source": [
    "doc1"
   ]
  },
  {
   "cell_type": "code",
   "execution_count": 78,
   "metadata": {},
   "outputs": [
    {
     "data": {
      "text/plain": [
       "'Acropolis Museum\\nThe Acropolis Museum (Greek: Μουσείο Ακρόπολης, Mouseio Akropolis) is an archaeological museum focused on the findings of the archaeological site of the Acropolis of Athens. The museum was built to house every artifact found on the rock and on the surrounding slopes, from the Greek Bronze Age to Roman and Byzantine Greece. The Acropolis Museum also lies over the ruins of part of Roman and early Byzantine Athens.\\nThe museum was founded in 2003 while the Organization of the Museum was established in 2008. It opened to the public on 20 June 2009.[1] More than 4,250 objects are exhibited over an area of 14,000 square metres.\\nThe museum is located by the southeastern slope of the Acropolis hill, on the ancient road that led up to the \"sacred rock\" in classical times. Set only 280 meters (310 yd), away from the Parthenon, and a 400 meters (440 yd) walking distance from it, the museum is the largest modern building erected so close to the ancient site\\nThe entrance fee to the museum was €1 for the first year and €5 thereafter. As of 2024, the entrance fee during the winter season (1 November through 30 March) is €10, and €15 during the summer season (1 April - 31 October).\\nThe excavation below ground level continues. The site and process are visible through the ground level glass flooring. As of June 2019, the site is available for visitation.\\nThe Acropolis Museum was selected as the motif for a commemorative Euro coin edition: the €10 Greek Acropolis Museum commemorative coin, minted in 2008 to mark the relocation of the museum. On the obverse is a panoramic view of the Acropolis and the new museum lies at the base.\\nReferences\\n \"Wonderful Greece\". Archived from the original on 26 July 2015. Retrieved 13 June 2013.https://web.archive.org/web/20150726210657/http://video.minpress.gr/wwwminpress/Wonderful_Greece/WG_9_3\\nhttps://www.theartnewspaper.com/2025/04/01/the-worlds-most-visited-museums-2024-\\n'"
      ]
     },
     "execution_count": 78,
     "metadata": {},
     "output_type": "execute_result"
    }
   ],
   "source": [
    "doc2"
   ]
  },
  {
   "cell_type": "code",
   "execution_count": 79,
   "metadata": {},
   "outputs": [
    {
     "data": {
      "text/plain": [
       "'Eugenides Foundation\\nThe Eugenides Foundation (Greek: Ίδρυμα Ευγενίδου) is a Greek private educational foundation. It was established in 1956 in Athens, Greece implementing the will of the late Greek benefactor Eugenios Eugenidis, who died in April 1954.\\n\\nThe activity of the foundation, in accordance with its articles of association, is to contribute to the scientific and technological education of young people in Greece. The foundation is administered by a committee of three persons, which is participated by each professor which is elected as a rector of the National Technical University of Athens (NTUA) until the end of his term as a rector. For its multifaceted contribution to Greek society, Eugenides Foundation was honored in December 1965 with the gold medal of the Academy of Athens.\\nActivities\\nThe activities and establishments of the Foundation include:\\n\\na scholarship program granting 20 scholarships annually\\na scientific and technical library,\\na museum of science and technology,\\npublishing of scientific and technical books, with over 45.000.000 copies of books published to date,\\na digital computerized planetarium, of dome diameter 25 m and a total surface of 950 m2, one of the best equipped in the world.\\nlecture halls and auditoriums.\\nhttp://www.eugenfound.edu.gr/'"
      ]
     },
     "execution_count": 79,
     "metadata": {},
     "output_type": "execute_result"
    }
   ],
   "source": [
    "doc3"
   ]
  },
  {
   "cell_type": "code",
   "execution_count": 61,
   "metadata": {},
   "outputs": [],
   "source": [
    "d1_embedding = model.encode([doc1])\n",
    "d2_embedding = model.encode([doc2])\n",
    "d3_embedding = model.encode([doc3])"
   ]
  },
  {
   "cell_type": "code",
   "execution_count": 65,
   "metadata": {},
   "outputs": [
    {
     "data": {
      "text/plain": [
       "((1, 1024), (1, 1024), (1, 1024))"
      ]
     },
     "execution_count": 65,
     "metadata": {},
     "output_type": "execute_result"
    }
   ],
   "source": [
    "d1_embedding['dense_vecs'].shape, d2_embedding['dense_vecs'].shape, d3_embedding['dense_vecs'].shape"
   ]
  },
  {
   "cell_type": "code",
   "execution_count": 94,
   "metadata": {},
   "outputs": [],
   "source": [
    "query = \"when was the goulandris museum founded\" \n",
    "query_embedding = model.encode([query])"
   ]
  },
  {
   "cell_type": "code",
   "execution_count": 88,
   "metadata": {},
   "outputs": [],
   "source": [
    "all_document_embeddings = np.stack([d1_embedding['dense_vecs'],d2_embedding['dense_vecs'],d3_embedding['dense_vecs']]).reshape(-1,1024)"
   ]
  },
  {
   "cell_type": "code",
   "execution_count": 95,
   "metadata": {},
   "outputs": [],
   "source": [
    "similarity = query_embedding['dense_vecs'] @ all_document_embeddings.T\n"
   ]
  },
  {
   "cell_type": "code",
   "execution_count": 96,
   "metadata": {},
   "outputs": [
    {
     "data": {
      "text/plain": [
       "array([[0.6212836 , 0.43497568, 0.35743386]], dtype=float32)"
      ]
     },
     "execution_count": 96,
     "metadata": {},
     "output_type": "execute_result"
    }
   ],
   "source": [
    "similarity"
   ]
  },
  {
   "cell_type": "markdown",
   "metadata": {},
   "source": [
    "#### The most simple approach is first to encode each document as a different embedding into the database so we start with this "
   ]
  },
  {
   "cell_type": "markdown",
   "metadata": {},
   "source": [
    "- This seems like a good foundation for a first simple solution\n",
    "- The model seems to be able to understand the differences between the embeddings"
   ]
  },
  {
   "cell_type": "markdown",
   "metadata": {},
   "source": [
    "### So now based on this idea let's encode the documents and ingest them into our collection"
   ]
  },
  {
   "cell_type": "markdown",
   "metadata": {},
   "source": [
    "# create the collection first "
   ]
  },
  {
   "cell_type": "code",
   "execution_count": 163,
   "metadata": {},
   "outputs": [
    {
     "data": {
      "text/plain": [
       "True"
      ]
     },
     "execution_count": 163,
     "metadata": {},
     "output_type": "execute_result"
    }
   ],
   "source": [
    "model_name = \"BAAI/bge-m3\"\n",
    "client.create_collection(\n",
    "    collection_name=\"museum_collection\",\n",
    "    vectors_config=models.VectorParams(\n",
    "        size=1024,\n",
    "        distance=models.Distance.COSINE\n",
    "    ),  # size and distance are model dependent\n",
    ")"
   ]
  },
  {
   "cell_type": "markdown",
   "metadata": {},
   "source": [
    "# next we need to insert the documents "
   ]
  },
  {
   "cell_type": "code",
   "execution_count": 156,
   "metadata": {},
   "outputs": [],
   "source": [
    "document_sources = os.listdir(\"/home/ko_st/Documents/rag_with_fastapi/rag-pipeline-with-fastapi/data\")\n",
    "\n",
    "path = \"/home/ko_st/Documents/rag_with_fastapi/rag-pipeline-with-fastapi/data\"\n",
    "\n",
    "def get_document_content(path):\n",
    "    document_sources = os.listdir(path)\n",
    "    for i,d in enumerate(document_sources):\n",
    "        with open(os.path.join(path,d),\"r\") as df:\n",
    "            # call function to split document and ingest\n",
    "            yield i,d,df.read()"
   ]
  },
  {
   "cell_type": "code",
   "execution_count": 157,
   "metadata": {},
   "outputs": [],
   "source": [
    "gen = iter(get_document_content(path))"
   ]
  },
  {
   "cell_type": "code",
   "execution_count": 158,
   "metadata": {},
   "outputs": [],
   "source": [
    "metadata_with_docs = [\n",
    "    {\"id\":x[0],\"document\": x[2], \"source\": x[1]} for x in gen \n",
    "]\n"
   ]
  },
  {
   "cell_type": "code",
   "execution_count": 159,
   "metadata": {},
   "outputs": [
    {
     "data": {
      "text/plain": [
       "[{'id': 0,\n",
       "  'document': 'Goulandris Museum of Cycladic Art\\nThe Nicholas P. Goulandris Foundation - Museum of Cycladic Art (Greek: Μουσείο Κυκλαδικής τέχνης) is a museum in Athens that houses a notable collection of artifacts of Cycladic art.\\n\\nThe museum was founded in 1986 in order to house the collection of Cycladic and Ancient Greek art belonging to Nicholas and Dolly Goulandris.[1] Starting in the early 1960s, the couple collected Greek antiquities, with special interest in the prehistoric art from the Cyclades islands of the Aegean Sea.[2] The museum\\'s main building, erected in the centre of Athens in 1985, was designed by the Greek architect Ioannis Vikelas [el].[3] In 1991, the Museum acquired a new building, the neo-classical Stathatos Mansion at the corner of Vassilissis Sofias Avenue and Herodotou Street.[4]\\n\\nThe museum\\'s permanent collection includes over 3,000 items, and was described in The New York Times as \"one of the world\\'s most significant privately assembled collections of Cycladic antiquities.\"\\nTemporary exhibits are housed in the Stathatos Mansion.[3] The museum\\'s temporary exhibitions have included some of the most important Greek and international modern and contemporary artists.\\nJune–September 2009: Thomas Struth\\nSeptember–October 2009: Palle Nielsen Man, Dream and Fear - Orpheus and Eurydice Through the Eyes of Palle Nielsen\\nMay–September 2010: Louise Bourgeois - Personages\\nFurther reading \\nhttps://en.wikipedia.org/wiki/Goulandris_Museum_of_Cycladic_Art#Further_reading',\n",
       "  'source': 'd3.txt'},\n",
       " {'id': 1,\n",
       "  'document': 'Acropolis Museum\\nThe Acropolis Museum (Greek: Μουσείο Ακρόπολης, Mouseio Akropolis) is an archaeological museum focused on the findings of the archaeological site of the Acropolis of Athens. The museum was built to house every artifact found on the rock and on the surrounding slopes, from the Greek Bronze Age to Roman and Byzantine Greece. The Acropolis Museum also lies over the ruins of part of Roman and early Byzantine Athens.\\nThe museum was founded in 2003 while the Organization of the Museum was established in 2008. It opened to the public on 20 June 2009.[1] More than 4,250 objects are exhibited over an area of 14,000 square metres.\\nThe museum is located by the southeastern slope of the Acropolis hill, on the ancient road that led up to the \"sacred rock\" in classical times. Set only 280 meters (310 yd), away from the Parthenon, and a 400 meters (440 yd) walking distance from it, the museum is the largest modern building erected so close to the ancient site\\nThe entrance fee to the museum was €1 for the first year and €5 thereafter. As of 2024, the entrance fee during the winter season (1 November through 30 March) is €10, and €15 during the summer season (1 April - 31 October).\\nThe excavation below ground level continues. The site and process are visible through the ground level glass flooring. As of June 2019, the site is available for visitation.\\nThe Acropolis Museum was selected as the motif for a commemorative Euro coin edition: the €10 Greek Acropolis Museum commemorative coin, minted in 2008 to mark the relocation of the museum. On the obverse is a panoramic view of the Acropolis and the new museum lies at the base.\\nReferences\\n \"Wonderful Greece\". Archived from the original on 26 July 2015. Retrieved 13 June 2013.https://web.archive.org/web/20150726210657/http://video.minpress.gr/wwwminpress/Wonderful_Greece/WG_9_3\\nhttps://www.theartnewspaper.com/2025/04/01/the-worlds-most-visited-museums-2024-\\n',\n",
       "  'source': 'd1.txt'},\n",
       " {'id': 2,\n",
       "  'document': 'Eugenides Foundation\\nThe Eugenides Foundation (Greek: Ίδρυμα Ευγενίδου) is a Greek private educational foundation. It was established in 1956 in Athens, Greece implementing the will of the late Greek benefactor Eugenios Eugenidis, who died in April 1954.\\n\\nThe activity of the foundation, in accordance with its articles of association, is to contribute to the scientific and technological education of young people in Greece. The foundation is administered by a committee of three persons, which is participated by each professor which is elected as a rector of the National Technical University of Athens (NTUA) until the end of his term as a rector. For its multifaceted contribution to Greek society, Eugenides Foundation was honored in December 1965 with the gold medal of the Academy of Athens.\\nActivities\\nThe activities and establishments of the Foundation include:\\n\\na scholarship program granting 20 scholarships annually\\na scientific and technical library,\\na museum of science and technology,\\npublishing of scientific and technical books, with over 45.000.000 copies of books published to date,\\na digital computerized planetarium, of dome diameter 25 m and a total surface of 950 m2, one of the best equipped in the world.\\nlecture halls and auditoriums.\\nhttp://www.eugenfound.edu.gr/',\n",
       "  'source': 'd2.txt'}]"
      ]
     },
     "execution_count": 159,
     "metadata": {},
     "output_type": "execute_result"
    }
   ],
   "source": [
    "metadata_with_docs"
   ]
  },
  {
   "cell_type": "code",
   "execution_count": 164,
   "metadata": {},
   "outputs": [
    {
     "data": {
      "text/plain": [
       "UpdateResult(operation_id=0, status=<UpdateStatus.COMPLETED: 'completed'>)"
      ]
     },
     "execution_count": 164,
     "metadata": {},
     "output_type": "execute_result"
    }
   ],
   "source": [
    "collection_name = \"museum_collection\"\n",
    "client.upsert(\n",
    "    collection_name=collection_name,\n",
    "    points=[\n",
    "        models.PointStruct(\n",
    "            id=doc['id'],\n",
    "            payload = {\"text\":doc['document'],\"id\":doc['id'],\"source\":doc['source']},\n",
    "            vector=model.encode(doc['document'])['dense_vecs'])\n",
    "        for doc in metadata_with_docs\n",
    "    ]\n",
    ")"
   ]
  },
  {
   "cell_type": "markdown",
   "metadata": {},
   "source": [
    "#### ok all documents for our rag pipeline are uploaded"
   ]
  },
  {
   "cell_type": "markdown",
   "metadata": {},
   "source": [
    "let's try some queries "
   ]
  },
  {
   "cell_type": "code",
   "execution_count": 169,
   "metadata": {},
   "outputs": [],
   "source": [
    "query =  \"when was goulandris museum created ?\"\n",
    "query_embedding = model.encode(query)['dense_vecs']"
   ]
  },
  {
   "cell_type": "code",
   "execution_count": null,
   "metadata": {},
   "outputs": [],
   "source": [
    "# we can try simple querying using a top-k"
   ]
  },
  {
   "cell_type": "code",
   "execution_count": 181,
   "metadata": {},
   "outputs": [],
   "source": [
    "top_k = 1\n",
    "query_result = client.query_points(\n",
    "    collection_name=collection_name,\n",
    "    query=query_embedding,\n",
    "    with_vectors=True,\n",
    "    with_payload=True,\n",
    "    limit=top_k, # we can limit the results\n",
    "    score_threshold = 0.55, # we can also set a minumum score for returning results   \n",
    ")\n",
    "\n"
   ]
  },
  {
   "cell_type": "markdown",
   "metadata": {},
   "source": [
    "- To simplify we limit with topk=1 to get back one chunk only\n",
    "- The score threshold is great for returning for example a \"I do not know\" anwser \n",
    "- if the returned chunks have all score below the threshold \n",
    "- then it is easy to just return an empty list and \n",
    "- decide accordingly to return a string \"please add more information/ i am not sure/i do not know\""
   ]
  },
  {
   "cell_type": "markdown",
   "metadata": {},
   "source": [
    "- This is only part of our rag pipeline\n",
    "- having got the answser we now have to feed the result to an llm \n",
    "- together with the prompt (the query text) and get back the final anwser "
   ]
  },
  {
   "cell_type": "markdown",
   "metadata": {},
   "source": [
    "# NOTES \n",
    "- later we can also use filters on the results for example restricting that all anwsers have the same doc_id \n",
    "- which is a logical and required constraint if we ingest different documents and we know that \n",
    "- the concepts/entities are separated per file \n",
    "- we can for example fetch best results and then if the top-k has doc-id = 1 fetch all other chunks having the same doc-id\n",
    "- also when score - threshold is below a score we can return an empty list and never go the gpt \n",
    "(in this case we give full confidence to our knowledge base and no confidence to llm general confidence)\n"
   ]
  },
  {
   "cell_type": "markdown",
   "metadata": {},
   "source": [
    "- we are going to use gpt4.1 for this "
   ]
  },
  {
   "cell_type": "code",
   "execution_count": 180,
   "metadata": {},
   "outputs": [
    {
     "data": {
      "text/plain": [
       "QueryResponse(points=[ScoredPoint(id=0, version=0, score=0.63075626, payload={'text': 'Goulandris Museum of Cycladic Art\\nThe Nicholas P. Goulandris Foundation - Museum of Cycladic Art (Greek: Μουσείο Κυκλαδικής τέχνης) is a museum in Athens that houses a notable collection of artifacts of Cycladic art.\\n\\nThe museum was founded in 1986 in order to house the collection of Cycladic and Ancient Greek art belonging to Nicholas and Dolly Goulandris.[1] Starting in the early 1960s, the couple collected Greek antiquities, with special interest in the prehistoric art from the Cyclades islands of the Aegean Sea.[2] The museum\\'s main building, erected in the centre of Athens in 1985, was designed by the Greek architect Ioannis Vikelas [el].[3] In 1991, the Museum acquired a new building, the neo-classical Stathatos Mansion at the corner of Vassilissis Sofias Avenue and Herodotou Street.[4]\\n\\nThe museum\\'s permanent collection includes over 3,000 items, and was described in The New York Times as \"one of the world\\'s most significant privately assembled collections of Cycladic antiquities.\"\\nTemporary exhibits are housed in the Stathatos Mansion.[3] The museum\\'s temporary exhibitions have included some of the most important Greek and international modern and contemporary artists.\\nJune–September 2009: Thomas Struth\\nSeptember–October 2009: Palle Nielsen Man, Dream and Fear - Orpheus and Eurydice Through the Eyes of Palle Nielsen\\nMay–September 2010: Louise Bourgeois - Personages\\nFurther reading \\nhttps://en.wikipedia.org/wiki/Goulandris_Museum_of_Cycladic_Art#Further_reading', 'id': 0, 'source': 'd3.txt'}, vector=[-0.04718669, -0.015075804, -0.06158441, 0.013718719, 0.03487746, -0.031069547, -0.04035585, -0.039270464, 0.05750797, 0.03293585, 0.024506751, 0.061269697, -0.009543035, -0.011438664, 0.015482121, -0.04028529, 0.02795201, 0.0144163165, -0.02983224, -0.049565494, -0.04068381, -0.045464993, 0.005505782, -0.0065277447, -0.010114136, 0.034389507, 0.009761325, 0.0017395867, -0.020423206, -0.029196344, -0.0005498349, -0.0011654096, 0.01610895, -0.0037611919, -0.0061414926, -0.0027874983, 0.00028622683, 0.004730371, -0.046961922, -0.0015000558, 0.0005455687, 0.03507172, 0.028678976, 0.011854128, 0.004012595, -0.052632544, 0.027073834, -0.02275153, -0.031414554, -0.00807071, -0.008567112, -0.03299466, -0.017611127, 5.1883166e-05, 0.02567544, 0.039209075, -0.050058823, -0.011974822, -0.00010943828, -0.021211399, -0.02993222, -0.0067091356, 0.008442319, 0.008252122, 0.0340697, 0.077213, -0.015194242, 0.02499039, -0.030283885, 0.0071828463, -0.011009666, -0.016182616, -0.0074001523, 0.0006471056, -0.059292767, -0.0093049565, -0.0282516, 0.006043934, -0.037987158, 0.036733404, 0.044029154, 0.0068803923, 0.03779602, 0.0013975226, -0.0038214037, 0.04504237, -0.0008396641, -0.03517776, 0.011777309, -0.032713633, -0.030552467, 0.02341996, 0.03259941, -0.021873755, -0.026872726, 0.008426244, -0.029174354, -0.03059326, 0.010636645, -0.037686113, -0.016063338, 0.013989707, -0.019480798, -0.038702212, -0.021977069, 0.034208033, 0.050606724, 0.02602208, -0.035851795, 0.006996494, 0.02201123, 0.027815836, 0.023243286, -0.0063259527, -0.021983232, -0.024865871, -0.02727136, 0.008862252, -0.0069393357, 0.015990283, -0.00410849, 0.010416651, 0.022139335, -0.013955714, -0.004321619, -0.02306805, 0.036137912, -0.02397754, -0.022132944, 0.042409644, 0.012712898, 0.026795749, 0.001260324, 0.0012166558, -0.010281832, -0.013495345, 0.033640135, 0.0018617684, 0.015889823, -0.019523777, 0.06370651, 0.021610951, -0.020157617, -0.047695827, 0.011305452, 0.0021187519, -0.034068614, -0.014605473, -0.009868011, 0.020497441, 0.012411848, 0.0041224505, 0.03178352, -0.01593101, 0.006976273, -0.02682956, -0.032827076, 0.041848313, -0.06490881, 0.032124173, -0.010067746, 0.0069458964, 0.007988815, 0.001877504, 0.024248451, 0.0017857046, 0.044764962, -0.00041154787, 0.015516966, -0.011886531, 0.004744486, -0.088896364, 0.011417128, 0.019798664, 0.02420812, 0.028894315, 0.033334102, 0.028068705, 0.002378258, -0.019907042, -0.02733828, 0.042079106, 0.009568321, 0.012520891, 0.005479927, 0.0040411744, -0.027835334, -0.027499544, -0.00054848584, 0.07236007, -0.05744214, -0.018498946, 0.054998636, -0.009987711, 0.002871689, -0.0062959655, 0.003021582, 0.024285702, -0.06558096, -0.050504096, -0.04384398, 0.020807115, 0.04236328, 0.023969743, 0.03971915, -0.03422692, 0.015364612, -0.017384704, 0.053289525, 0.0262979, 0.0007267754, 0.044748705, 0.0038652243, -0.014827939, -0.02659964, 0.023825537, 0.038517687, 0.0070912847, -0.016138786, 0.015775373, 0.011003676, 0.022731166, 0.023206891, -0.0015948152, 0.02399185, -0.021835262, -0.018363092, -0.028101323, 0.015628174, -0.03026543, 0.022250656, -0.023847194, 0.006452602, 0.019276861, 0.01656615, -0.008106334, 0.012024885, -0.03275391, -0.0048592193, 0.039303336, -0.051147398, 0.01112253, 0.0012570858, -0.040394973, 0.0041850926, -0.031615928, -0.008958692, 0.026716748, 0.02377898, -0.023763036, 0.02914347, -0.0045416537, 0.0059367754, 0.036358833, -0.0086138155, 0.020391725, -0.009483362, -0.010776482, 0.004042361, -0.040113546, 0.021296822, 0.0076196827, 0.03185393, 0.032287687, 0.025515363, -0.030465208, -0.02263185, -0.037706695, 0.050336916, 0.0060381186, 0.034708153, 0.05282466, -0.037054535, 0.020671621, -0.00803173, -0.019746982, 0.007078803, -0.009189089, -0.004269832, 0.004250844, -0.020296663, -0.05938852, 0.0276635, 0.02089556, -0.04144813, 0.00770698, -0.021316713, 0.03184078, -0.01725131, -0.04134463, 0.0025978067, -0.023975879, 0.063729115, 0.02666152, 0.003236966, -0.061069712, -0.032130852, -0.16969734, -0.010742939, -0.0014591153, -0.0013763721, -0.0059873597, 0.015148414, -0.023899378, -0.11647938, -0.02336068, -0.002102333, -0.024092581, -0.04061939, -0.045799814, 0.00030930815, -0.00014643648, -0.008228482, 0.012004376, -0.030177467, 0.020120794, -0.023780882, 0.007230764, -0.03211777, 0.041676495, 0.036289074, 0.03267437, -0.0012745267, 0.0557186, 0.0057913023, -0.03928153, -0.007838033, 0.03573839, 0.006830693, 0.00131453, 0.04649558, 0.048121825, 0.023022735, 0.06201995, -0.0006523194, 0.01989739, -0.018520197, 0.018686675, 0.025199514, 0.022797275, 0.033489227, -0.03646962, -0.06962341, 0.0014702532, 0.012843323, 0.033641916, 0.03135545, -0.0021816494, 0.016106678, -0.05550827, 0.0037558295, -0.005244261, -0.007013197, -0.04036423, 0.039933037, -0.018814892, -0.019777944, 0.020198235, -0.073974, 0.01005115, -0.012482627, 0.049410697, 0.030173931, -0.010096326, -0.033293854, 0.008148572, 0.020131908, -0.0031854648, -0.002062951, -0.025620434, -0.003875166, 0.018402392, 0.0042794524, -0.02335768, 0.0025201524, 0.018560087, -0.06318675, 0.0076692733, 0.009351456, 0.008772167, -0.018312795, -0.03763939, 0.0085038915, -0.010708438, 0.0040269843, 0.056556266, 0.24392025, 0.005871679, 0.01902285, 0.011559024, 0.031577762, -0.026874134, 0.017452987, -0.013705888, -0.00073929067, -0.005356773, 0.00142911, 0.007122461, -0.008458016, -0.02958745, -0.008527626, 0.07932458, -0.04067651, 0.022328576, 0.049609568, -0.026594926, -0.026735429, -0.014679544, 0.012024801, 0.034610834, 0.006627955, -0.033880193, 0.012863058, 0.033123523, -0.02311122, 0.0219016, -0.030037234, -0.0057991305, 0.017843911, 0.01192707, -0.010917772, -0.029768454, -0.010649123, -0.052704167, 0.015121921, -0.0017301822, 0.005602637, -0.0130154425, 0.029259074, -0.017818073, -0.0013850718, 0.0128028635, 0.006828695, -0.0030793857, -0.036767177, -0.018166946, -0.059424844, 0.0139139425, -0.04069724, 0.0041075195, -0.03417496, -0.030746672, -0.030967698, -0.015033248, -0.010761553, 0.0017992533, -0.0427687, 0.013727464, -0.042949162, -0.02834427, -0.040372428, 0.00409966, 0.013051482, -0.012060194, -0.023910474, 0.005243205, 0.06349362, -0.026061952, -0.08006772, -0.019155791, -0.0014436521, 0.0471186, 0.0284251, 0.06953039, 0.020634977, 0.00705263, -0.0054169535, 0.011219797, -0.020504352, 0.027129114, 0.018187782, -0.0007309606, -0.027318588, -0.0091653615, -0.031316802, -0.04525421, -0.0108738085, -0.0076651867, -0.0263923, 0.012704442, 0.004104696, -0.067501046, -0.011986504, -0.04727727, -0.017885873, 0.004666758, -0.0251914, -0.017736427, -0.018541599, -0.051758375, 0.025795083, -0.07747257, -0.017683221, 0.022693424, 0.021316158, -0.037046295, 0.04317519, -0.0011636207, -0.001840295, 0.020709476, -0.034541767, 0.023509, 0.012201298, -0.032548282, -0.021880912, 0.08108438, -0.0075460277, 0.011958626, -0.0076196147, -0.06941272, -0.10076231, 0.016900718, -0.02963464, -0.042723544, -0.032275625, 0.01110329, -0.013902626, -0.030725416, -0.056566443, 0.03106742, 0.060786925, 0.0007083048, 0.0056249504, -0.00056440954, -0.03871258, 0.0097964145, 0.004799556, -0.051605172, -0.033924643, 0.0013468208, -0.0009782667, -0.0064757387, -0.015427639, 0.045261674, 0.023013357, -0.024047168, 0.010039038, 0.015154041, 0.0007703499, 0.016660858, 0.021832015, 0.027005043, -0.012890594, 0.002436815, 0.019219207, 0.011013471, 0.0057798903, 0.016658785, 0.019426806, 0.10364284, 0.031389177, 0.0039947093, -0.031544212, 0.05422451, 0.03633608, 0.006179937, 0.004069661, 0.0013733682, -0.05099842, 0.03764412, 0.0580644, 0.029234618, 0.004515459, 0.041168302, 0.032535635, 0.0106032295, -0.0009418194, 0.011642397, -0.0015708572, 0.0005271535, 0.025190009, 0.028457489, 0.05361942, -0.011676379, -0.043204468, -0.018801257, -0.05083279, 0.036478195, 0.0011444708, -0.014069307, -0.004206921, -0.035963077, -0.009515033, 0.002550404, 0.035027996, -0.0042305477, -0.008198204, -0.026189093, -0.0038099056, -0.013784487, -0.03668153, -0.0067769755, 0.015791021, 0.040246572, -0.066446036, -0.001776286, -0.013624397, 0.009984241, 0.040545322, -0.015293916, -0.03568035, -0.008925076, 0.03623799, 0.017258637, 0.022094041, -0.06863265, 0.008963784, -0.025599554, 0.020023603, -0.045136813, -0.030866293, -0.019454027, 0.0004658163, 0.014064098, -0.026314335, 0.06491718, 0.000998764, -0.038774315, -0.028256906, -0.01597432, 0.054605108, -0.008392705, 0.044983562, -0.0020081114, 0.020818247, 0.0075423727, 0.03229107, -0.034390483, 0.018085472, -0.00046996318, -0.029717743, -0.007186198, -0.010684618, -0.034375, 0.047301028, 0.08818246, -0.022559902, 0.037016407, 0.018055946, 0.042030126, 0.0004521238, 0.0047065653, -0.022887949, -0.013637027, -0.046307206, -0.0354715, 0.025298689, 0.030096866, -0.022622792, -0.0044666487, -0.048312444, -0.016677678, -0.021650646, -0.03244994, -0.03359396, -0.014059707, 0.020442264, -0.0062958836, -0.04544375, 0.010983412, 0.041120853, 0.015355244, 0.012572745, 0.0026017914, -0.06310036, 0.010900365, -0.036707148, 0.045861013, 0.04413426, -0.008721626, -0.06427415, 0.024755323, 0.03202505, 0.01237056, -0.0014210272, -0.035077363, 0.017306592, 0.0012172242, -0.06997325, 0.0039366945, -0.015686626, -0.004684868, -0.08375075, 0.022877356, -0.0009666321, -0.010220344, -0.0031410402, 0.030214546, -0.06726097, -0.0035015154, -0.04101098, -0.017524451, 0.016402058, -0.02332675, 0.011740447, -0.008429633, 0.019092549, -0.032011572, 0.016219568, 0.019948356, -0.02812716, -0.0055802795, 0.027315458, -0.015736688, 0.025668405, -0.0051337006, 0.05490143, -0.010771826, 0.02781579, 0.0185592, 0.0033531555, 0.010511106, 0.0035067433, 0.01180733, -0.021969546, -0.004587798, -0.008855873, 0.051245596, -0.0152713815, 0.023428418, -0.044425458, 0.017886803, 0.016294288, -0.0016812722, 0.024293184, -0.020424442, -0.011594589, 0.036189895, 0.023387501, -0.009832922, 0.017273076, -0.01737848, 0.001653158, 0.0034248827, -0.015302738, 0.012056816, -0.044748, 0.056294173, 0.002356475, -0.070103124, -0.006511186, -0.01909326, -0.002134677, -0.012984982, 0.025120957, 0.0025144105, -0.006146439, 0.022400634, 0.022944484, 0.019920839, 0.03115114, 0.019327745, 0.015099994, -0.028464876, 0.023638206, 0.019287324, 0.007423002, 0.050643235, -0.012855626, -0.017184274, -0.009199447, -0.0035960046, -0.04000324, -0.015469414, 0.025470562, -0.015782362, -0.024494775, -0.015706029, -0.06386881, -0.022992488, 0.025170116, 0.045982487, -0.029312609, -0.008003176, -0.0082863, -0.010561895, -0.059151664, 0.053375315, -0.039549317, -0.03761118, -0.1531022, 0.006544477, -0.00047288678, -0.017986188, -0.08654988, -0.0033756641, -0.015104131, 0.00017333638, 0.021414483, -0.040196396, 0.0070467736, 0.051383536, -0.009293191, -0.0020145918, 0.0012074636, 0.08390789, -0.025771767, -0.009592426, -0.0026673735, 0.01814584, -0.026373453, -0.02249207, -0.0073146704, 0.0017743986, -0.001854238, -0.035545994, 0.019533448, -0.021302447, -0.010124052, -0.030145245, 0.014238697, -0.054581266, 0.00625323, 0.011744144, 0.01322514, -0.022708703, -0.013706322, -0.0042115976, 0.019577025, 0.06194078, -0.044019032, 0.010131725, -0.020707803, 0.012966591, 0.0035993652, 0.05099333, 0.032530922, -0.000664045, -0.03491641, -0.017879337, 0.03117888, 0.0138221495, 0.02187791, 0.064730495, -0.024494732, 0.026004642, -0.02018618, 0.046638004, -0.014603281, 0.048287243, 0.00929998, -0.03852986, 0.00027882165, -0.04369873, -0.05490313, 0.052749015, -0.022952082, 0.024939679, -0.009161283, -0.05004641, 0.013301876, 0.0035523803, -0.014645023, -0.02311707, 0.03471134, 0.007943008, 0.03885627, -0.0089146895, -0.040485613, 0.004236956, -0.002464007, -0.06246978, -0.028086556, -0.029260788, 0.028056284, 0.030800411, -0.06365683, -0.02296906, 0.008192819, -0.00060530624, -0.03261574, -0.011241268, -0.021437287, 0.009465219, -0.055853818, 0.05048761, -0.052131318, 0.004360633, -0.026551165, -0.018337786, -0.0070362403, -0.023103949, -0.000710085, -0.030914178, -0.05046067, 0.044906575, -0.010786528, -0.008748555, 0.0014880222, 0.015881715, -0.030647576, 0.009654831, -0.032846022, -0.00732454, 0.041315824, 0.039675727, -0.0020153334, -0.010469117, 0.027713038, 0.0019663146, 0.008287405, 0.03315234, 0.017021064, -0.018062556, -0.029072093, 0.0656479, 0.07087352, -0.026290657, 0.03736765, 0.014753518, 0.018423544, 0.008319325, -0.014409559, 0.040658265, 0.06481232, 0.014440033, 0.0027926706, 0.029092943, 0.019906234, -0.009015069, 0.0220503, 0.04965386, 0.04338798, 0.004632228, -0.0056281365, -0.027982218, 0.029248497, -0.008941357, 0.0004493116, -0.01583983, -0.007558147, -0.0070984494, 0.028868942, 0.014724877, -0.0012552787, 0.0072396947, 0.014280716, -0.015688142, 0.033862773, 0.0128915645, -0.0012097239, -0.032654766, -0.034491543, 0.007252329, -0.027726838, 0.0054916367, -0.02154649, 0.011718101, -0.037953097, 0.0033732727, -0.0040935846, 0.039635222, -0.044754893, 0.008417283, -0.016317049, -0.06308246, 0.043132752, 0.061068945, 0.008584069, 0.020853585, 0.01563356, -0.013562958, 0.0028150182, -0.0045739207, 0.004429565, -0.039491314, -0.04475772, 0.043329075, -0.0041554864, -0.019693991, -0.042951938, -0.022610014, 0.021306382, 0.007924796, 0.01929492, 0.034169, 0.007607784, 0.067329645, 0.022734167, 0.04486967, 0.013257987, 0.0059476923, -0.022665888, 0.03225774, -0.0057952087, 0.0016340553, 0.07792898, -0.021408742, 0.017890196, -0.014655674, -0.05135304, -0.0024810242, -0.007785216, 0.025634587, 0.029914496, 0.0040707705, 0.025962394, 0.008268169, -0.014132352, 0.016149413, 0.02130637, 0.038935423, -0.05283504, 0.02520487, 0.0093327835, -0.023463607, -0.01607086, 0.009662515, -0.027786791, 0.0006360708, -0.009235468, 0.026063351, 0.0050368714, 0.060700536, 0.011054911, -0.032215416, 0.023749696, -0.013705104, 0.01667367, -0.028988669, 0.04851872, 0.012127675, 0.0030856442, -0.038733188], shard_key=None, order_value=None)])"
      ]
     },
     "execution_count": 180,
     "metadata": {},
     "output_type": "execute_result"
    }
   ],
   "source": [
    "query_result"
   ]
  },
  {
   "cell_type": "markdown",
   "metadata": {},
   "source": [
    "### create the prompt to the llm and the enriched context"
   ]
  },
  {
   "cell_type": "code",
   "execution_count": 204,
   "metadata": {},
   "outputs": [],
   "source": [
    "def system_prompt() -> str:\n",
    "    \"\"\"\n",
    "    Generates a user prompt for information retrieval task\n",
    "\n",
    "    Args:\n",
    "        text: The text that needs to be corrected\n",
    "\n",
    "    Returns:\n",
    "        str: A formatted user prompt for testing.\n",
    "    \"\"\"\n",
    "    return f\"\"\"You are an culture assistant specialized in information about museuems, cultural foundations and events. You get as input questions and need to anwser with accuracy.\"\"\""
   ]
  },
  {
   "cell_type": "code",
   "execution_count": 206,
   "metadata": {},
   "outputs": [],
   "source": [
    "def user_prompt(question,context) -> str:\n",
    "    \"\"\"\n",
    "    Generates a user prompt for information retrieval task\n",
    "\n",
    "    Args:\n",
    "        text: The text that needs to be corrected\n",
    "\n",
    "    Returns:\n",
    "        str: A formatted user prompt for testing.\n",
    "    \"\"\"\n",
    "    return f\"\"\"Answer the following question using the provided context. \n",
    "If you can't find the answer, do not pretend you know it, but answer \"I don't know\".\n",
    "\n",
    "### Question\n",
    "{question}\n",
    "\n",
    "### Context \n",
    "{context}\n",
    "\"\"\"\n",
    "\n"
   ]
  },
  {
   "cell_type": "markdown",
   "metadata": {},
   "source": [
    "### Offer context information to llm using our retrieved result "
   ]
  },
  {
   "cell_type": "code",
   "execution_count": 199,
   "metadata": {},
   "outputs": [],
   "source": [
    "context = \"\"\n",
    "context += \"\\n\".join([x.payload['text'] for x in query_result.points])"
   ]
  },
  {
   "cell_type": "code",
   "execution_count": 207,
   "metadata": {},
   "outputs": [
    {
     "data": {
      "text/plain": [
       "'Goulandris Museum of Cycladic Art\\nThe Nicholas P. Goulandris Foundation - Museum of Cycladic Art (Greek: Μουσείο Κυκλαδικής τέχνης) is a museum in Athens that houses a notable collection of artifacts of Cycladic art.\\n\\nThe museum was founded in 1986 in order to house the collection of Cycladic and Ancient Greek art belonging to Nicholas and Dolly Goulandris.[1] Starting in the early 1960s, the couple collected Greek antiquities, with special interest in the prehistoric art from the Cyclades islands of the Aegean Sea.[2] The museum\\'s main building, erected in the centre of Athens in 1985, was designed by the Greek architect Ioannis Vikelas [el].[3] In 1991, the Museum acquired a new building, the neo-classical Stathatos Mansion at the corner of Vassilissis Sofias Avenue and Herodotou Street.[4]\\n\\nThe museum\\'s permanent collection includes over 3,000 items, and was described in The New York Times as \"one of the world\\'s most significant privately assembled collections of Cycladic antiquities.\"\\nTemporary exhibits are housed in the Stathatos Mansion.[3] The museum\\'s temporary exhibitions have included some of the most important Greek and international modern and contemporary artists.\\nJune–September 2009: Thomas Struth\\nSeptember–October 2009: Palle Nielsen Man, Dream and Fear - Orpheus and Eurydice Through the Eyes of Palle Nielsen\\nMay–September 2010: Louise Bourgeois - Personages\\nFurther reading \\nhttps://en.wikipedia.org/wiki/Goulandris_Museum_of_Cycladic_Art#Further_reading'"
      ]
     },
     "execution_count": 207,
     "metadata": {},
     "output_type": "execute_result"
    }
   ],
   "source": [
    "context"
   ]
  },
  {
   "cell_type": "markdown",
   "metadata": {},
   "source": [
    "An important point to take into account is that we need to find a way to chunk the context extracted if for example it is too much to fit into the llm \n"
   ]
  },
  {
   "cell_type": "code",
   "execution_count": 202,
   "metadata": {},
   "outputs": [
    {
     "data": {
      "text/plain": [
       "367"
      ]
     },
     "execution_count": 202,
     "metadata": {},
     "output_type": "execute_result"
    }
   ],
   "source": [
    "token_count = len(enc.encode(context))\n",
    "token_count\n"
   ]
  },
  {
   "cell_type": "markdown",
   "metadata": {},
   "source": [
    "#### Now that we have the contextual information as well we neeed to feed it to the llm along with the original query and the prompts "
   ]
  },
  {
   "cell_type": "code",
   "execution_count": 203,
   "metadata": {},
   "outputs": [],
   "source": [
    "import random\n",
    "import time\n",
    "from openai import RateLimitError\n",
    "\n",
    "\n",
    "client = OpenAI()\n",
    "\n",
    "\n",
    "def call_llm_with_retry(func, max_retries: int = 5, initial_delay: int = 4):\n",
    "    \"\"\"\n",
    "    wrapper for llm to handle rate limits\n",
    "    \"\"\"\n",
    "    delay = initial_delay\n",
    "    for attempt in range(max_retries):\n",
    "        try:\n",
    "            return func()\n",
    "        except RateLimitError:\n",
    "            print(f\"Rate limit hit, retrying in {delay}s...\")\n",
    "            time.sleep(delay + random.uniform(0, 0.5))  # small jitter\n",
    "            delay *= 2  # exponential backoff\n",
    "    raise Exception(\"Max retries exceeded\")"
   ]
  },
  {
   "cell_type": "code",
   "execution_count": 209,
   "metadata": {},
   "outputs": [
    {
     "data": {
      "text/plain": [
       "'Goulandris Museum of Cycladic Art\\nThe Nicholas P. Goulandris Foundation - Museum of Cycladic Art (Greek: Μουσείο Κυκλαδικής τέχνης) is a museum in Athens that houses a notable collection of artifacts of Cycladic art.\\n\\nThe museum was founded in 1986 in order to house the collection of Cycladic and Ancient Greek art belonging to Nicholas and Dolly Goulandris.[1] Starting in the early 1960s, the couple collected Greek antiquities, with special interest in the prehistoric art from the Cyclades islands of the Aegean Sea.[2] The museum\\'s main building, erected in the centre of Athens in 1985, was designed by the Greek architect Ioannis Vikelas [el].[3] In 1991, the Museum acquired a new building, the neo-classical Stathatos Mansion at the corner of Vassilissis Sofias Avenue and Herodotou Street.[4]\\n\\nThe museum\\'s permanent collection includes over 3,000 items, and was described in The New York Times as \"one of the world\\'s most significant privately assembled collections of Cycladic antiquities.\"\\nTemporary exhibits are housed in the Stathatos Mansion.[3] The museum\\'s temporary exhibitions have included some of the most important Greek and international modern and contemporary artists.\\nJune–September 2009: Thomas Struth\\nSeptember–October 2009: Palle Nielsen Man, Dream and Fear - Orpheus and Eurydice Through the Eyes of Palle Nielsen\\nMay–September 2010: Louise Bourgeois - Personages\\nFurther reading \\nhttps://en.wikipedia.org/wiki/Goulandris_Museum_of_Cycladic_Art#Further_reading'"
      ]
     },
     "execution_count": 209,
     "metadata": {},
     "output_type": "execute_result"
    }
   ],
   "source": [
    "# let's ask the llm \n",
    "query = \"when was goulandris museum created ?\"\n",
    "context"
   ]
  },
  {
   "cell_type": "code",
   "execution_count": 210,
   "metadata": {},
   "outputs": [],
   "source": [
    "completion = call_llm_with_retry(\n",
    "            lambda: client.chat.completions.create(\n",
    "                model=\"gpt-4.1\",\n",
    "                messages=[\n",
    "                    {\"role\": \"system\", \"content\": system_prompt()},\n",
    "                    {\"role\": \"user\", \"content\": user_prompt(query,context)},\n",
    "                ],\n",
    "                temperature=0.1,\n",
    "                top_p=0.95,\n",
    "            )\n",
    "        )"
   ]
  },
  {
   "cell_type": "code",
   "execution_count": 228,
   "metadata": {},
   "outputs": [
    {
     "data": {
      "text/plain": [
       "'The Goulandris Museum of Cycladic Art was founded in 1986.'"
      ]
     },
     "execution_count": 228,
     "metadata": {},
     "output_type": "execute_result"
    }
   ],
   "source": [
    "completion.choices[0].message.model_dump()['content']"
   ]
  }
 ],
 "metadata": {
  "kernelspec": {
   "display_name": "AgentsEnv",
   "language": "python",
   "name": "python3"
  },
  "language_info": {
   "codemirror_mode": {
    "name": "ipython",
    "version": 3
   },
   "file_extension": ".py",
   "mimetype": "text/x-python",
   "name": "python",
   "nbconvert_exporter": "python",
   "pygments_lexer": "ipython3",
   "version": "3.13.7"
  },
  "orig_nbformat": 4
 },
 "nbformat": 4,
 "nbformat_minor": 2
}
