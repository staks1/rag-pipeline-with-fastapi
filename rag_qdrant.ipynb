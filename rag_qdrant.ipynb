{
 "cells": [
  {
   "cell_type": "markdown",
   "metadata": {},
   "source": [
    "# Testing framework for creating the rag pipeline "
   ]
  },
  {
   "cell_type": "markdown",
   "metadata": {},
   "source": [
    "1. create the collection of text embeddings - we need a qdrant container to start and ignest our documents in a collection\n",
    "let's add 3-4 texts of documents about museums and their information \n",
    "2. send llm prompt + use qdrant method to query the knoweledge base \n",
    "results = client.query_points , check if it has options for top-k or similarity type\n",
    "3. when querying the vector database if all top-k answers are below a threshold then answer with \"i do not know\""
   ]
  },
  {
   "cell_type": "markdown",
   "metadata": {},
   "source": [
    "##### First we have started a qdrant container that is running the vector database, so we need to connect to our database (this is run as a different service, so for now we do not worry about the setup step)"
   ]
  },
  {
   "cell_type": "code",
   "execution_count": 16,
   "metadata": {},
   "outputs": [],
   "source": [
    "import tiktoken\n",
    "import numpy as np \n",
    "from typing import List\n",
    "import re"
   ]
  },
  {
   "cell_type": "code",
   "execution_count": 141,
   "metadata": {},
   "outputs": [],
   "source": [
    "from qdrant_client import QdrantClient\n",
    "\n",
    "client = QdrantClient(url=\"http://localhost:6333\")"
   ]
  },
  {
   "cell_type": "markdown",
   "metadata": {},
   "source": [
    "- create simple collection of vectors - choose dim=384 and cosine similarity as distance"
   ]
  },
  {
   "cell_type": "code",
   "execution_count": 3,
   "metadata": {},
   "outputs": [],
   "source": [
    "from qdrant_client.models import Distance, VectorParams,models\n",
    "\n",
    "# client.create_collection(\n",
    "#     collection_name=\"museum_collection\",\n",
    "#     vectors_config=models.VectorParams(size=384, distance=models.Distance.COSINE)\n",
    "#)"
   ]
  },
  {
   "cell_type": "markdown",
   "metadata": {},
   "source": [
    "- we now need to select an embedding model to encode our text documents so we can insert them into the collection\n",
    "- we can use sentence transformers + bge small - en"
   ]
  },
  {
   "cell_type": "markdown",
   "metadata": {},
   "source": [
    "# Questions"
   ]
  },
  {
   "cell_type": "markdown",
   "metadata": {},
   "source": [
    "- another question is how we are going to handle text paragraphs from each document. \n",
    "- let's say we have scraped the urls of 3 greek museums/foundations\n",
    "- each museum/foundation text clearly needs to be a different embedding \n",
    "- additionally how will we handle the large text paragraph for each one ? \n",
    "- we can't create one embedding for each paragraph \n",
    "- so we need to create vectors within each document embedding "
   ]
  },
  {
   "cell_type": "markdown",
   "metadata": {},
   "source": [
    "# We need to experiment for this step\n",
    "- first start by studying our documents "
   ]
  },
  {
   "cell_type": "code",
   "execution_count": 4,
   "metadata": {},
   "outputs": [],
   "source": [
    "from openai import OpenAI\n",
    "import os \n",
    "from dotenv import load_dotenv\n",
    "\n",
    "load_dotenv()\n",
    "\n",
    "api_key = os.environ['OPENAI_API_KEY']\n",
    "client = OpenAI()"
   ]
  },
  {
   "cell_type": "markdown",
   "metadata": {},
   "source": [
    "- A potential idea to explore is based on the assumption that we may have metadata for each museum so we can add those metadata to each embedding part \n",
    "- We will start with this idea\n",
    "- Knowing the museum/foundation name is potentially a strong assumption that needs investigation (maybe an option to use it if it is known)\n",
    "- Based on the Task description we make the assumption first that we can distinguish the texts into different files so we can ingest them per file "
   ]
  },
  {
   "cell_type": "code",
   "execution_count": null,
   "metadata": {},
   "outputs": [],
   "source": [
    "# # create function to ingest the files (split into chunks) paragraphs into the collection \n",
    "# import os \n",
    "# document_sources = os.listdir(\"/home/ko_st/Documents/rag_with_fastapi/rag-pipeline-with-fastapi/data\")\n",
    "# for d in document_sources:\n",
    "#     with open(os.path.join(document_sources,d),\"r\") as df:\n",
    "#         # call function to split document and ingest\n"
   ]
  },
  {
   "cell_type": "markdown",
   "metadata": {},
   "source": [
    "# Study and ingest one document"
   ]
  },
  {
   "cell_type": "code",
   "execution_count": 5,
   "metadata": {},
   "outputs": [],
   "source": [
    "with open(\"/home/ko_st/Documents/rag_with_fastapi/rag-pipeline-with-fastapi/data/d1.txt\",mode=\"r\",encoding=\"utf-8\") as df1:\n",
    "    document_content = df1.read()"
   ]
  },
  {
   "cell_type": "code",
   "execution_count": 7,
   "metadata": {},
   "outputs": [
    {
     "data": {
      "text/plain": [
       "'Acropolis Museum\\nThe Acropolis Museum (Greek: Μουσείο Ακρόπολης, Mouseio Akropolis) is an archaeological museum focused on the findings of the archaeological site of the Acropolis of Athens. The museum was built to house every artifact found on the rock and on the surrounding slopes, from the Greek Bronze Age to Roman and Byzantine Greece. The Acropolis Museum also lies over the ruins of part of Roman and early Byzantine Athens.\\nThe museum was founded in 2003 while the Organization of the Museum was established in 2008. It opened to the public on 20 June 2009.[1] More than 4,250 objects are exhibited over an area of 14,000 square metres.\\nThe museum is located by the southeastern slope of the Acropolis hill, on the ancient road that led up to the \"sacred rock\" in classical times. Set only 280 meters (310 yd), away from the Parthenon, and a 400 meters (440 yd) walking distance from it, the museum is the largest modern building erected so close to the ancient site\\nThe entrance fee to the museum was €1 for the first year and €5 thereafter. As of 2024, the entrance fee during the winter season (1 November through 30 March) is €10, and €15 during the summer season (1 April - 31 October).\\nThe excavation below ground level continues. The site and process are visible through the ground level glass flooring. As of June 2019, the site is available for visitation.\\nThe Acropolis Museum was selected as the motif for a commemorative Euro coin edition: the €10 Greek Acropolis Museum commemorative coin, minted in 2008 to mark the relocation of the museum. On the obverse is a panoramic view of the Acropolis and the new museum lies at the base.\\nReferences\\n \"Wonderful Greece\". Archived from the original on 26 July 2015. Retrieved 13 June 2013.https://web.archive.org/web/20150726210657/http://video.minpress.gr/wwwminpress/Wonderful_Greece/WG_9_3\\nhttps://www.theartnewspaper.com/2025/04/01/the-worlds-most-visited-museums-2024-\\n'"
      ]
     },
     "execution_count": 7,
     "metadata": {},
     "output_type": "execute_result"
    }
   ],
   "source": [
    "document_content"
   ]
  },
  {
   "cell_type": "markdown",
   "metadata": {},
   "source": [
    "### count sample document tokens\n",
    "- This is a required preprocessing step to make an estimation if for example it is possible to encode our whole document paragraph into one embedding or do chunk based approach. Of course this should be generic and changes per document."
   ]
  },
  {
   "cell_type": "code",
   "execution_count": 8,
   "metadata": {},
   "outputs": [],
   "source": [
    "enc = tiktoken.encoding_for_model(\"gpt-4\")\n",
    "\n",
    "token_count = len(enc.encode(document_content))\n"
   ]
  },
  {
   "cell_type": "code",
   "execution_count": 9,
   "metadata": {},
   "outputs": [
    {
     "data": {
      "text/plain": [
       "483"
      ]
     },
     "execution_count": 9,
     "metadata": {},
     "output_type": "execute_result"
    }
   ],
   "source": [
    "token_count"
   ]
  },
  {
   "cell_type": "code",
   "execution_count": 21,
   "metadata": {},
   "outputs": [
    {
     "data": {
      "text/plain": [
       "'Acropolis Museum\\nThe Acropolis Museum (Greek: Μουσείο Ακρόπολης, Mouseio Akropolis) is an archaeological museum focused on the findings of the archaeological site of the Acropolis of Athens. The museum was built to house every artifact found on the rock and on the surrounding slopes, from the Greek Bronze Age to Roman and Byzantine Greece. The Acropolis Museum also lies over the ruins of part of Roman and early Byzantine Athens.\\nThe museum was founded in 2003 while the Organization of the Museum was established in 2008. It opened to the public on 20 June 2009.[1] More than 4,250 objects are exhibited over an area of 14,000 square metres.\\nThe museum is located by the southeastern slope of the Acropolis hill, on the ancient road that led up to the \"sacred rock\" in classical times. Set only 280 meters (310 yd), away from the Parthenon, and a 400 meters (440 yd) walking distance from it, the museum is the largest modern building erected so close to the ancient site\\nThe entrance fee to the museum was €1 for the first year and €5 thereafter. As of 2024, the entrance fee during the winter season (1 November through 30 March) is €10, and €15 during the summer season (1 April - 31 October).\\nThe excavation below ground level continues. The site and process are visible through the ground level glass flooring. As of June 2019, the site is available for visitation.\\nThe Acropolis Museum was selected as the motif for a commemorative Euro coin edition: the €10 Greek Acropolis Museum commemorative coin, minted in 2008 to mark the relocation of the museum. On the obverse is a panoramic view of the Acropolis and the new museum lies at the base.\\nReferences\\n \"Wonderful Greece\". Archived from the original on 26 July 2015. Retrieved 13 June 2013.https://web.archive.org/web/20150726210657/http://video.minpress.gr/wwwminpress/Wonderful_Greece/WG_9_3\\nhttps://www.theartnewspaper.com/2025/04/01/the-worlds-most-visited-museums-2024-\\n'"
      ]
     },
     "execution_count": 21,
     "metadata": {},
     "output_type": "execute_result"
    }
   ],
   "source": [
    "document_content"
   ]
  },
  {
   "cell_type": "markdown",
   "metadata": {},
   "source": [
    "#### let's encode one document  using BGE as one embedding to study the performance of querying and granularity of embedding"
   ]
  },
  {
   "cell_type": "code",
   "execution_count": 27,
   "metadata": {},
   "outputs": [],
   "source": [
    "path = \"/home/ko_st/Documents/rag_with_fastapi/rag-pipeline-with-fastapi/data\"\n",
    "\n",
    "def get_document_content(path):\n",
    "    document_sources = os.listdir(path)\n",
    "    for d in document_sources:\n",
    "        with open(os.path.join(path,d),\"r\") as df:\n",
    "            # call function to split document and ingest\n",
    "            yield df.read()"
   ]
  },
  {
   "cell_type": "code",
   "execution_count": 28,
   "metadata": {},
   "outputs": [],
   "source": [
    "gen = iter(get_document_content(path))"
   ]
  },
  {
   "cell_type": "code",
   "execution_count": 29,
   "metadata": {},
   "outputs": [],
   "source": [
    "doc1 = next(gen)\n",
    "doc2 = next(gen)\n",
    "doc3 = next(gen)"
   ]
  },
  {
   "cell_type": "code",
   "execution_count": 11,
   "metadata": {},
   "outputs": [
    {
     "name": "stderr",
     "output_type": "stream",
     "text": [
      "Fetching 30 files: 100%|██████████| 30/30 [00:00<00:00, 10497.13it/s]\n"
     ]
    }
   ],
   "source": [
    "from FlagEmbedding import BGEM3FlagModel\n",
    "model = BGEM3FlagModel('BAAI/bge-m3',  \n",
    "                       use_fp16=True,\n",
    "                       devices='cpu') # Setting use_fp16 to True speeds up computation with a slight performance degradation\n"
   ]
  },
  {
   "cell_type": "code",
   "execution_count": 52,
   "metadata": {},
   "outputs": [
    {
     "data": {
      "text/plain": [
       "'Goulandris Museum of Cycladic Art\\nThe Nicholas P. Goulandris Foundation - Museum of Cycladic Art (Greek: Μουσείο Κυκλαδικής τέχνης) is a museum in Athens that houses a notable collection of artifacts of Cycladic art.\\n\\nThe museum was founded in 1986 in order to house the collection of Cycladic and Ancient Greek art belonging to Nicholas and Dolly Goulandris.[1] Starting in the early 1960s, the couple collected Greek antiquities, with special interest in the prehistoric art from the Cyclades islands of the Aegean Sea.[2] The museum\\'s main building, erected in the centre of Athens in 1985, was designed by the Greek architect Ioannis Vikelas [el].[3] In 1991, the Museum acquired a new building, the neo-classical Stathatos Mansion at the corner of Vassilissis Sofias Avenue and Herodotou Street.[4]\\n\\nThe museum\\'s permanent collection includes over 3,000 items, and was described in The New York Times as \"one of the world\\'s most significant privately assembled collections of Cycladic antiquities.\"\\nTemporary exhibits are housed in the Stathatos Mansion.[3] The museum\\'s temporary exhibitions have included some of the most important Greek and international modern and contemporary artists.\\nJune–September 2009: Thomas Struth\\nSeptember–October 2009: Palle Nielsen Man, Dream and Fear - Orpheus and Eurydice Through the Eyes of Palle Nielsen\\nMay–September 2010: Louise Bourgeois - Personages\\nFurther reading \\nhttps://en.wikipedia.org/wiki/Goulandris_Museum_of_Cycladic_Art#Further_reading'"
      ]
     },
     "execution_count": 52,
     "metadata": {},
     "output_type": "execute_result"
    }
   ],
   "source": [
    "doc1"
   ]
  },
  {
   "cell_type": "code",
   "execution_count": 78,
   "metadata": {},
   "outputs": [
    {
     "data": {
      "text/plain": [
       "'Acropolis Museum\\nThe Acropolis Museum (Greek: Μουσείο Ακρόπολης, Mouseio Akropolis) is an archaeological museum focused on the findings of the archaeological site of the Acropolis of Athens. The museum was built to house every artifact found on the rock and on the surrounding slopes, from the Greek Bronze Age to Roman and Byzantine Greece. The Acropolis Museum also lies over the ruins of part of Roman and early Byzantine Athens.\\nThe museum was founded in 2003 while the Organization of the Museum was established in 2008. It opened to the public on 20 June 2009.[1] More than 4,250 objects are exhibited over an area of 14,000 square metres.\\nThe museum is located by the southeastern slope of the Acropolis hill, on the ancient road that led up to the \"sacred rock\" in classical times. Set only 280 meters (310 yd), away from the Parthenon, and a 400 meters (440 yd) walking distance from it, the museum is the largest modern building erected so close to the ancient site\\nThe entrance fee to the museum was €1 for the first year and €5 thereafter. As of 2024, the entrance fee during the winter season (1 November through 30 March) is €10, and €15 during the summer season (1 April - 31 October).\\nThe excavation below ground level continues. The site and process are visible through the ground level glass flooring. As of June 2019, the site is available for visitation.\\nThe Acropolis Museum was selected as the motif for a commemorative Euro coin edition: the €10 Greek Acropolis Museum commemorative coin, minted in 2008 to mark the relocation of the museum. On the obverse is a panoramic view of the Acropolis and the new museum lies at the base.\\nReferences\\n \"Wonderful Greece\". Archived from the original on 26 July 2015. Retrieved 13 June 2013.https://web.archive.org/web/20150726210657/http://video.minpress.gr/wwwminpress/Wonderful_Greece/WG_9_3\\nhttps://www.theartnewspaper.com/2025/04/01/the-worlds-most-visited-museums-2024-\\n'"
      ]
     },
     "execution_count": 78,
     "metadata": {},
     "output_type": "execute_result"
    }
   ],
   "source": [
    "doc2"
   ]
  },
  {
   "cell_type": "code",
   "execution_count": 79,
   "metadata": {},
   "outputs": [
    {
     "data": {
      "text/plain": [
       "'Eugenides Foundation\\nThe Eugenides Foundation (Greek: Ίδρυμα Ευγενίδου) is a Greek private educational foundation. It was established in 1956 in Athens, Greece implementing the will of the late Greek benefactor Eugenios Eugenidis, who died in April 1954.\\n\\nThe activity of the foundation, in accordance with its articles of association, is to contribute to the scientific and technological education of young people in Greece. The foundation is administered by a committee of three persons, which is participated by each professor which is elected as a rector of the National Technical University of Athens (NTUA) until the end of his term as a rector. For its multifaceted contribution to Greek society, Eugenides Foundation was honored in December 1965 with the gold medal of the Academy of Athens.\\nActivities\\nThe activities and establishments of the Foundation include:\\n\\na scholarship program granting 20 scholarships annually\\na scientific and technical library,\\na museum of science and technology,\\npublishing of scientific and technical books, with over 45.000.000 copies of books published to date,\\na digital computerized planetarium, of dome diameter 25 m and a total surface of 950 m2, one of the best equipped in the world.\\nlecture halls and auditoriums.\\nhttp://www.eugenfound.edu.gr/'"
      ]
     },
     "execution_count": 79,
     "metadata": {},
     "output_type": "execute_result"
    }
   ],
   "source": [
    "doc3"
   ]
  },
  {
   "cell_type": "code",
   "execution_count": 61,
   "metadata": {},
   "outputs": [],
   "source": [
    "d1_embedding = model.encode([doc1])\n",
    "d2_embedding = model.encode([doc2])\n",
    "d3_embedding = model.encode([doc3])"
   ]
  },
  {
   "cell_type": "code",
   "execution_count": 65,
   "metadata": {},
   "outputs": [
    {
     "data": {
      "text/plain": [
       "((1, 1024), (1, 1024), (1, 1024))"
      ]
     },
     "execution_count": 65,
     "metadata": {},
     "output_type": "execute_result"
    }
   ],
   "source": [
    "d1_embedding['dense_vecs'].shape, d2_embedding['dense_vecs'].shape, d3_embedding['dense_vecs'].shape"
   ]
  },
  {
   "cell_type": "code",
   "execution_count": 94,
   "metadata": {},
   "outputs": [],
   "source": [
    "query = \"when was the goulandris museum founded\" \n",
    "query_embedding = model.encode([query])"
   ]
  },
  {
   "cell_type": "code",
   "execution_count": 88,
   "metadata": {},
   "outputs": [],
   "source": [
    "all_document_embeddings = np.stack([d1_embedding['dense_vecs'],d2_embedding['dense_vecs'],d3_embedding['dense_vecs']]).reshape(-1,1024)"
   ]
  },
  {
   "cell_type": "code",
   "execution_count": 95,
   "metadata": {},
   "outputs": [],
   "source": [
    "similarity = query_embedding['dense_vecs'] @ all_document_embeddings.T\n"
   ]
  },
  {
   "cell_type": "code",
   "execution_count": 96,
   "metadata": {},
   "outputs": [
    {
     "data": {
      "text/plain": [
       "array([[0.6212836 , 0.43497568, 0.35743386]], dtype=float32)"
      ]
     },
     "execution_count": 96,
     "metadata": {},
     "output_type": "execute_result"
    }
   ],
   "source": [
    "similarity"
   ]
  },
  {
   "cell_type": "markdown",
   "metadata": {},
   "source": [
    "#### The most simple approach is first to encode each document as a different embedding into the database so we start with this "
   ]
  },
  {
   "cell_type": "markdown",
   "metadata": {},
   "source": [
    "- This seems like a good foundation for a first simple solution\n",
    "- The model seems to be able to understand the differences between the embeddings"
   ]
  },
  {
   "cell_type": "markdown",
   "metadata": {},
   "source": [
    "### So now based on this idea let's encode the documents and ingest them into our collection"
   ]
  },
  {
   "cell_type": "markdown",
   "metadata": {},
   "source": [
    "# create the collection first "
   ]
  },
  {
   "cell_type": "code",
   "execution_count": 163,
   "metadata": {},
   "outputs": [
    {
     "data": {
      "text/plain": [
       "True"
      ]
     },
     "execution_count": 163,
     "metadata": {},
     "output_type": "execute_result"
    }
   ],
   "source": [
    "model_name = \"BAAI/bge-m3\"\n",
    "client.create_collection(\n",
    "    collection_name=\"museum_collection\",\n",
    "    vectors_config=models.VectorParams(\n",
    "        size=1024,\n",
    "        distance=models.Distance.COSINE\n",
    "    ),  # size and distance are model dependent\n",
    ")"
   ]
  },
  {
   "cell_type": "markdown",
   "metadata": {},
   "source": [
    "# next we need to insert the documents "
   ]
  },
  {
   "cell_type": "code",
   "execution_count": 156,
   "metadata": {},
   "outputs": [],
   "source": [
    "document_sources = os.listdir(\"/home/ko_st/Documents/rag_with_fastapi/rag-pipeline-with-fastapi/data\")\n",
    "\n",
    "path = \"/home/ko_st/Documents/rag_with_fastapi/rag-pipeline-with-fastapi/data\"\n",
    "\n",
    "def get_document_content(path):\n",
    "    document_sources = os.listdir(path)\n",
    "    for i,d in enumerate(document_sources):\n",
    "        with open(os.path.join(path,d),\"r\") as df:\n",
    "            # call function to split document and ingest\n",
    "            yield i,d,df.read()"
   ]
  },
  {
   "cell_type": "code",
   "execution_count": 157,
   "metadata": {},
   "outputs": [],
   "source": [
    "gen = iter(get_document_content(path))"
   ]
  },
  {
   "cell_type": "code",
   "execution_count": 158,
   "metadata": {},
   "outputs": [],
   "source": [
    "metadata_with_docs = [\n",
    "    {\"id\":x[0],\"document\": x[2], \"source\": x[1]} for x in gen \n",
    "]\n"
   ]
  },
  {
   "cell_type": "code",
   "execution_count": 159,
   "metadata": {},
   "outputs": [
    {
     "data": {
      "text/plain": [
       "[{'id': 0,\n",
       "  'document': 'Goulandris Museum of Cycladic Art\\nThe Nicholas P. Goulandris Foundation - Museum of Cycladic Art (Greek: Μουσείο Κυκλαδικής τέχνης) is a museum in Athens that houses a notable collection of artifacts of Cycladic art.\\n\\nThe museum was founded in 1986 in order to house the collection of Cycladic and Ancient Greek art belonging to Nicholas and Dolly Goulandris.[1] Starting in the early 1960s, the couple collected Greek antiquities, with special interest in the prehistoric art from the Cyclades islands of the Aegean Sea.[2] The museum\\'s main building, erected in the centre of Athens in 1985, was designed by the Greek architect Ioannis Vikelas [el].[3] In 1991, the Museum acquired a new building, the neo-classical Stathatos Mansion at the corner of Vassilissis Sofias Avenue and Herodotou Street.[4]\\n\\nThe museum\\'s permanent collection includes over 3,000 items, and was described in The New York Times as \"one of the world\\'s most significant privately assembled collections of Cycladic antiquities.\"\\nTemporary exhibits are housed in the Stathatos Mansion.[3] The museum\\'s temporary exhibitions have included some of the most important Greek and international modern and contemporary artists.\\nJune–September 2009: Thomas Struth\\nSeptember–October 2009: Palle Nielsen Man, Dream and Fear - Orpheus and Eurydice Through the Eyes of Palle Nielsen\\nMay–September 2010: Louise Bourgeois - Personages\\nFurther reading \\nhttps://en.wikipedia.org/wiki/Goulandris_Museum_of_Cycladic_Art#Further_reading',\n",
       "  'source': 'd3.txt'},\n",
       " {'id': 1,\n",
       "  'document': 'Acropolis Museum\\nThe Acropolis Museum (Greek: Μουσείο Ακρόπολης, Mouseio Akropolis) is an archaeological museum focused on the findings of the archaeological site of the Acropolis of Athens. The museum was built to house every artifact found on the rock and on the surrounding slopes, from the Greek Bronze Age to Roman and Byzantine Greece. The Acropolis Museum also lies over the ruins of part of Roman and early Byzantine Athens.\\nThe museum was founded in 2003 while the Organization of the Museum was established in 2008. It opened to the public on 20 June 2009.[1] More than 4,250 objects are exhibited over an area of 14,000 square metres.\\nThe museum is located by the southeastern slope of the Acropolis hill, on the ancient road that led up to the \"sacred rock\" in classical times. Set only 280 meters (310 yd), away from the Parthenon, and a 400 meters (440 yd) walking distance from it, the museum is the largest modern building erected so close to the ancient site\\nThe entrance fee to the museum was €1 for the first year and €5 thereafter. As of 2024, the entrance fee during the winter season (1 November through 30 March) is €10, and €15 during the summer season (1 April - 31 October).\\nThe excavation below ground level continues. The site and process are visible through the ground level glass flooring. As of June 2019, the site is available for visitation.\\nThe Acropolis Museum was selected as the motif for a commemorative Euro coin edition: the €10 Greek Acropolis Museum commemorative coin, minted in 2008 to mark the relocation of the museum. On the obverse is a panoramic view of the Acropolis and the new museum lies at the base.\\nReferences\\n \"Wonderful Greece\". Archived from the original on 26 July 2015. Retrieved 13 June 2013.https://web.archive.org/web/20150726210657/http://video.minpress.gr/wwwminpress/Wonderful_Greece/WG_9_3\\nhttps://www.theartnewspaper.com/2025/04/01/the-worlds-most-visited-museums-2024-\\n',\n",
       "  'source': 'd1.txt'},\n",
       " {'id': 2,\n",
       "  'document': 'Eugenides Foundation\\nThe Eugenides Foundation (Greek: Ίδρυμα Ευγενίδου) is a Greek private educational foundation. It was established in 1956 in Athens, Greece implementing the will of the late Greek benefactor Eugenios Eugenidis, who died in April 1954.\\n\\nThe activity of the foundation, in accordance with its articles of association, is to contribute to the scientific and technological education of young people in Greece. The foundation is administered by a committee of three persons, which is participated by each professor which is elected as a rector of the National Technical University of Athens (NTUA) until the end of his term as a rector. For its multifaceted contribution to Greek society, Eugenides Foundation was honored in December 1965 with the gold medal of the Academy of Athens.\\nActivities\\nThe activities and establishments of the Foundation include:\\n\\na scholarship program granting 20 scholarships annually\\na scientific and technical library,\\na museum of science and technology,\\npublishing of scientific and technical books, with over 45.000.000 copies of books published to date,\\na digital computerized planetarium, of dome diameter 25 m and a total surface of 950 m2, one of the best equipped in the world.\\nlecture halls and auditoriums.\\nhttp://www.eugenfound.edu.gr/',\n",
       "  'source': 'd2.txt'}]"
      ]
     },
     "execution_count": 159,
     "metadata": {},
     "output_type": "execute_result"
    }
   ],
   "source": [
    "metadata_with_docs"
   ]
  },
  {
   "cell_type": "code",
   "execution_count": 164,
   "metadata": {},
   "outputs": [
    {
     "data": {
      "text/plain": [
       "UpdateResult(operation_id=0, status=<UpdateStatus.COMPLETED: 'completed'>)"
      ]
     },
     "execution_count": 164,
     "metadata": {},
     "output_type": "execute_result"
    }
   ],
   "source": [
    "collection_name = \"museum_collection\"\n",
    "client.upsert(\n",
    "    collection_name=collection_name,\n",
    "    points=[\n",
    "        models.PointStruct(\n",
    "            id=doc['id'],\n",
    "            payload = {\"text\":doc['document'],\"id\":doc['id'],\"source\":doc['source']},\n",
    "            vector=model.encode(doc['document'])['dense_vecs'])\n",
    "        for doc in metadata_with_docs\n",
    "    ]\n",
    ")"
   ]
  },
  {
   "cell_type": "markdown",
   "metadata": {},
   "source": [
    "#### ok all documents for our rag pipeline are uploaded"
   ]
  },
  {
   "cell_type": "markdown",
   "metadata": {},
   "source": [
    "let's try some queries "
   ]
  },
  {
   "cell_type": "code",
   "execution_count": 169,
   "metadata": {},
   "outputs": [],
   "source": [
    "query =  \"when was goulandris museum created ?\"\n",
    "query_embedding = model.encode(query)['dense_vecs']"
   ]
  },
  {
   "cell_type": "code",
   "execution_count": null,
   "metadata": {},
   "outputs": [],
   "source": [
    "# we can try simple querying using a top-k"
   ]
  },
  {
   "cell_type": "code",
   "execution_count": 181,
   "metadata": {},
   "outputs": [],
   "source": [
    "top_k = 1\n",
    "query_result = client.query_points(\n",
    "    collection_name=collection_name,\n",
    "    query=query_embedding,\n",
    "    with_vectors=True,\n",
    "    with_payload=True,\n",
    "    limit=top_k, # we can limit the results\n",
    "    score_threshold = 0.55, # we can also set a minumum score for returning results   \n",
    ")\n",
    "\n"
   ]
  },
  {
   "cell_type": "markdown",
   "metadata": {},
   "source": [
    "- To simplify we limit with topk=1 to get back one chunk only\n",
    "- The score threshold is great for returning for example a \"I do not know\" anwser \n",
    "- if the returned chunks have all score below the threshold \n",
    "- then it is easy to just return an empty list and \n",
    "- decide accordingly to return a string \"please add more information/ i am not sure/i do not know\""
   ]
  },
  {
   "cell_type": "markdown",
   "metadata": {},
   "source": [
    "- This is only part of our rag pipeline\n",
    "- having got the answser we now have to feed the result to an llm \n",
    "- together with the prompt (the query text) and get back the final anwser "
   ]
  },
  {
   "cell_type": "markdown",
   "metadata": {},
   "source": [
    "# NOTES \n",
    "- later we can also use filters on the results for example restricting that all anwsers have the same doc_id \n",
    "- which is a logical and required constraint if we ingest different documents and we know that \n",
    "- the concepts/entities are separated per file \n",
    "- we can for example fetch best results and then if the top-k has doc-id = 1 fetch all other chunks having the same doc-id\n",
    "- also when score - threshold is below a score we can return an empty list and never go the gpt \n",
    "(in this case we give full confidence to our knowledge base and no confidence to llm general confidence)\n"
   ]
  },
  {
   "cell_type": "markdown",
   "metadata": {},
   "source": [
    "- we are going to use gpt4.1 for this "
   ]
  },
  {
   "cell_type": "markdown",
   "metadata": {},
   "source": [
    "### create the prompt to the llm and the enriched context"
   ]
  },
  {
   "cell_type": "code",
   "execution_count": 204,
   "metadata": {},
   "outputs": [],
   "source": [
    "def system_prompt() -> str:\n",
    "    \"\"\"\n",
    "    Generates a user prompt for information retrieval task\n",
    "\n",
    "    Args:\n",
    "        text: The text that needs to be corrected\n",
    "\n",
    "    Returns:\n",
    "        str: A formatted user prompt for testing.\n",
    "    \"\"\"\n",
    "    return f\"\"\"You are an culture assistant specialized in information about museuems, cultural foundations and events. You get as input questions and need to anwser with accuracy.\"\"\""
   ]
  },
  {
   "cell_type": "code",
   "execution_count": 206,
   "metadata": {},
   "outputs": [],
   "source": [
    "def user_prompt(question,context) -> str:\n",
    "    \"\"\"\n",
    "    Generates a user prompt for information retrieval task\n",
    "\n",
    "    Args:\n",
    "        text: The text that needs to be corrected\n",
    "\n",
    "    Returns:\n",
    "        str: A formatted user prompt for testing.\n",
    "    \"\"\"\n",
    "    return f\"\"\"Answer the following question using the provided context. \n",
    "If you can't find the answer, do not pretend you know it, but answer \"I don't know\".\n",
    "\n",
    "### Question\n",
    "{question}\n",
    "\n",
    "### Context \n",
    "{context}\n",
    "\"\"\"\n",
    "\n"
   ]
  },
  {
   "cell_type": "markdown",
   "metadata": {},
   "source": [
    "### Offer context information to llm using our retrieved result "
   ]
  },
  {
   "cell_type": "code",
   "execution_count": 199,
   "metadata": {},
   "outputs": [],
   "source": [
    "context = \"\"\n",
    "context += \"\\n\".join([x.payload['text'] for x in query_result.points])"
   ]
  },
  {
   "cell_type": "code",
   "execution_count": 207,
   "metadata": {},
   "outputs": [
    {
     "data": {
      "text/plain": [
       "'Goulandris Museum of Cycladic Art\\nThe Nicholas P. Goulandris Foundation - Museum of Cycladic Art (Greek: Μουσείο Κυκλαδικής τέχνης) is a museum in Athens that houses a notable collection of artifacts of Cycladic art.\\n\\nThe museum was founded in 1986 in order to house the collection of Cycladic and Ancient Greek art belonging to Nicholas and Dolly Goulandris.[1] Starting in the early 1960s, the couple collected Greek antiquities, with special interest in the prehistoric art from the Cyclades islands of the Aegean Sea.[2] The museum\\'s main building, erected in the centre of Athens in 1985, was designed by the Greek architect Ioannis Vikelas [el].[3] In 1991, the Museum acquired a new building, the neo-classical Stathatos Mansion at the corner of Vassilissis Sofias Avenue and Herodotou Street.[4]\\n\\nThe museum\\'s permanent collection includes over 3,000 items, and was described in The New York Times as \"one of the world\\'s most significant privately assembled collections of Cycladic antiquities.\"\\nTemporary exhibits are housed in the Stathatos Mansion.[3] The museum\\'s temporary exhibitions have included some of the most important Greek and international modern and contemporary artists.\\nJune–September 2009: Thomas Struth\\nSeptember–October 2009: Palle Nielsen Man, Dream and Fear - Orpheus and Eurydice Through the Eyes of Palle Nielsen\\nMay–September 2010: Louise Bourgeois - Personages\\nFurther reading \\nhttps://en.wikipedia.org/wiki/Goulandris_Museum_of_Cycladic_Art#Further_reading'"
      ]
     },
     "execution_count": 207,
     "metadata": {},
     "output_type": "execute_result"
    }
   ],
   "source": [
    "context"
   ]
  },
  {
   "cell_type": "markdown",
   "metadata": {},
   "source": [
    "An important point to take into account is that we need to find a way to chunk the context extracted if for example it is too much to fit into the llm \n"
   ]
  },
  {
   "cell_type": "code",
   "execution_count": 202,
   "metadata": {},
   "outputs": [
    {
     "data": {
      "text/plain": [
       "367"
      ]
     },
     "execution_count": 202,
     "metadata": {},
     "output_type": "execute_result"
    }
   ],
   "source": [
    "token_count = len(enc.encode(context))\n",
    "token_count\n"
   ]
  },
  {
   "cell_type": "markdown",
   "metadata": {},
   "source": [
    "#### Now that we have the contextual information as well we neeed to feed it to the llm along with the original query and the prompts "
   ]
  },
  {
   "cell_type": "code",
   "execution_count": 203,
   "metadata": {},
   "outputs": [],
   "source": [
    "import random\n",
    "import time\n",
    "from openai import RateLimitError\n",
    "\n",
    "\n",
    "client = OpenAI()\n",
    "\n",
    "\n",
    "def call_llm_with_retry(func, max_retries: int = 5, initial_delay: int = 4):\n",
    "    \"\"\"\n",
    "    wrapper for llm to handle rate limits\n",
    "    \"\"\"\n",
    "    delay = initial_delay\n",
    "    for attempt in range(max_retries):\n",
    "        try:\n",
    "            return func()\n",
    "        except RateLimitError:\n",
    "            print(f\"Rate limit hit, retrying in {delay}s...\")\n",
    "            time.sleep(delay + random.uniform(0, 0.5))  # small jitter\n",
    "            delay *= 2  # exponential backoff\n",
    "    raise Exception(\"Max retries exceeded\")"
   ]
  },
  {
   "cell_type": "code",
   "execution_count": 209,
   "metadata": {},
   "outputs": [
    {
     "data": {
      "text/plain": [
       "'Goulandris Museum of Cycladic Art\\nThe Nicholas P. Goulandris Foundation - Museum of Cycladic Art (Greek: Μουσείο Κυκλαδικής τέχνης) is a museum in Athens that houses a notable collection of artifacts of Cycladic art.\\n\\nThe museum was founded in 1986 in order to house the collection of Cycladic and Ancient Greek art belonging to Nicholas and Dolly Goulandris.[1] Starting in the early 1960s, the couple collected Greek antiquities, with special interest in the prehistoric art from the Cyclades islands of the Aegean Sea.[2] The museum\\'s main building, erected in the centre of Athens in 1985, was designed by the Greek architect Ioannis Vikelas [el].[3] In 1991, the Museum acquired a new building, the neo-classical Stathatos Mansion at the corner of Vassilissis Sofias Avenue and Herodotou Street.[4]\\n\\nThe museum\\'s permanent collection includes over 3,000 items, and was described in The New York Times as \"one of the world\\'s most significant privately assembled collections of Cycladic antiquities.\"\\nTemporary exhibits are housed in the Stathatos Mansion.[3] The museum\\'s temporary exhibitions have included some of the most important Greek and international modern and contemporary artists.\\nJune–September 2009: Thomas Struth\\nSeptember–October 2009: Palle Nielsen Man, Dream and Fear - Orpheus and Eurydice Through the Eyes of Palle Nielsen\\nMay–September 2010: Louise Bourgeois - Personages\\nFurther reading \\nhttps://en.wikipedia.org/wiki/Goulandris_Museum_of_Cycladic_Art#Further_reading'"
      ]
     },
     "execution_count": 209,
     "metadata": {},
     "output_type": "execute_result"
    }
   ],
   "source": [
    "# let's ask the llm \n",
    "query = \"when was goulandris museum created ?\"\n",
    "context"
   ]
  },
  {
   "cell_type": "code",
   "execution_count": 210,
   "metadata": {},
   "outputs": [],
   "source": [
    "completion = call_llm_with_retry(\n",
    "            lambda: client.chat.completions.create(\n",
    "                model=\"gpt-4.1\",\n",
    "                messages=[\n",
    "                    {\"role\": \"system\", \"content\": system_prompt()},\n",
    "                    {\"role\": \"user\", \"content\": user_prompt(query,context)},\n",
    "                ],\n",
    "                temperature=0.1,\n",
    "                top_p=0.95,\n",
    "            )\n",
    "        )"
   ]
  },
  {
   "cell_type": "code",
   "execution_count": 228,
   "metadata": {},
   "outputs": [
    {
     "data": {
      "text/plain": [
       "'The Goulandris Museum of Cycladic Art was founded in 1986.'"
      ]
     },
     "execution_count": 228,
     "metadata": {},
     "output_type": "execute_result"
    }
   ],
   "source": [
    "completion.choices[0].message.model_dump()['content']"
   ]
  },
  {
   "cell_type": "markdown",
   "metadata": {},
   "source": [
    "# More advanced chunking implementation "
   ]
  },
  {
   "cell_type": "code",
   "execution_count": 10,
   "metadata": {},
   "outputs": [
    {
     "data": {
      "text/plain": [
       "'Acropolis Museum\\nThe Acropolis Museum (Greek: Μουσείο Ακρόπολης, Mouseio Akropolis) is an archaeological museum focused on the findings of the archaeological site of the Acropolis of Athens. The museum was built to house every artifact found on the rock and on the surrounding slopes, from the Greek Bronze Age to Roman and Byzantine Greece. The Acropolis Museum also lies over the ruins of part of Roman and early Byzantine Athens.\\nThe museum was founded in 2003 while the Organization of the Museum was established in 2008. It opened to the public on 20 June 2009.[1] More than 4,250 objects are exhibited over an area of 14,000 square metres.\\nThe museum is located by the southeastern slope of the Acropolis hill, on the ancient road that led up to the \"sacred rock\" in classical times. Set only 280 meters (310 yd), away from the Parthenon, and a 400 meters (440 yd) walking distance from it, the museum is the largest modern building erected so close to the ancient site\\nThe entrance fee to the museum was €1 for the first year and €5 thereafter. As of 2024, the entrance fee during the winter season (1 November through 30 March) is €10, and €15 during the summer season (1 April - 31 October).\\nThe excavation below ground level continues. The site and process are visible through the ground level glass flooring. As of June 2019, the site is available for visitation.\\nThe Acropolis Museum was selected as the motif for a commemorative Euro coin edition: the €10 Greek Acropolis Museum commemorative coin, minted in 2008 to mark the relocation of the museum. On the obverse is a panoramic view of the Acropolis and the new museum lies at the base.\\nReferences\\n \"Wonderful Greece\". Archived from the original on 26 July 2015. Retrieved 13 June 2013.https://web.archive.org/web/20150726210657/http://video.minpress.gr/wwwminpress/Wonderful_Greece/WG_9_3\\nhttps://www.theartnewspaper.com/2025/04/01/the-worlds-most-visited-museums-2024-\\n'"
      ]
     },
     "execution_count": 10,
     "metadata": {},
     "output_type": "execute_result"
    }
   ],
   "source": [
    "document_content"
   ]
  },
  {
   "cell_type": "code",
   "execution_count": 12,
   "metadata": {},
   "outputs": [],
   "source": [
    "token_count = len(enc.encode(document_content))\n"
   ]
  },
  {
   "cell_type": "code",
   "execution_count": 13,
   "metadata": {},
   "outputs": [
    {
     "data": {
      "text/plain": [
       "483"
      ]
     },
     "execution_count": 13,
     "metadata": {},
     "output_type": "execute_result"
    }
   ],
   "source": [
    "token_count"
   ]
  },
  {
   "cell_type": "markdown",
   "metadata": {},
   "source": [
    "### we need to count the tokens and if tokens > threshold split them further"
   ]
  },
  {
   "cell_type": "code",
   "execution_count": 17,
   "metadata": {},
   "outputs": [],
   "source": [
    "\n",
    "def sliding_window_on_text(\n",
    "    paragraph_text: str,\n",
    "    window_size: int = 100,\n",
    "    slide: int = 90,\n",
    ") -> List[List[str]]:\n",
    "    \"\"\"\n",
    "    Function to create overlaps in the text\n",
    "\n",
    "    The function will process window_size items\n",
    "    then move by slide value and process again window_size items.\n",
    "    This way we create overlaps and we can maintain  some of the contextual information\n",
    "    between sentences\n",
    "\n",
    "    Args:\n",
    "        paragraph_text: the text given\n",
    "        window_size: how many elements each chunk will include\n",
    "        slide: defines how much we move forward (how much information we maintain)\n",
    "    Returns:\n",
    "        total_tokens: The overlapping chunks of words  produced(nested list)\n",
    "    \"\"\"\n",
    "\n",
    "    # setting close window and slide we make sure we dont start from the begining of a large sequence\n",
    "    paragraph_text_list = re.split(r\"\\s+\", paragraph_text.strip())\n",
    "    total_tokens = []\n",
    "\n",
    "    i = 0\n",
    "    while i < len(paragraph_text_list):\n",
    "        # Get the window from i to i + window_size\n",
    "        window = paragraph_text_list[i : i + window_size]\n",
    "        total_tokens.append(window)\n",
    "\n",
    "        # Slide the window and repeat\n",
    "        i += slide\n",
    "\n",
    "    return total_tokens"
   ]
  },
  {
   "cell_type": "code",
   "execution_count": 18,
   "metadata": {},
   "outputs": [],
   "source": [
    "def split_overlap_window_recurse(\n",
    "    chunk_text: str, max_tokens: int, window: int, slide: int\n",
    ") -> List[List[str]]:\n",
    "    \"\"\"\n",
    "    Function that recurses to produce chunks with token count less than a max length given\n",
    "\n",
    "    This is implemented to give the option to run all the llm extracting steps\n",
    "    (extract properties, extract parties) in smaller overlapping chunks of the\n",
    "    page text if the whole page text does not fit in the max_context set to max_tokens.\n",
    "    Args:\n",
    "        chunk_text: the text given to split\n",
    "        max_tokens: user defined max context to send to llm\n",
    "        window: how many items each chunk can include\n",
    "        slide: defines how much information we maintain while sliding\n",
    "    Returns:\n",
    "        overlapping_chunks: the final list of lists of overlapping sentences\n",
    "    \"\"\"\n",
    "    if window <= 0 or slide <= 0:\n",
    "        return [[chunk_text]]\n",
    "\n",
    "    overlapping_chunks = sliding_window_on_text(chunk_text, window, slide)\n",
    "    for x in overlapping_chunks:\n",
    "        token_count = len(enc.encode(x[0]))\n",
    "        if token_count > max_tokens:\n",
    "            print(f\"token count {token_count} is large, should split into smaller\")\n",
    "            return split_overlap_window_recurse(\n",
    "                chunk_text, max_tokens, window - 10, slide - 10\n",
    "            )\n",
    "\n",
    "    return overlapping_chunks"
   ]
  },
  {
   "cell_type": "code",
   "execution_count": 23,
   "metadata": {},
   "outputs": [],
   "source": [
    "chunks = split_overlap_window_recurse(document_content,4000,100,90)\n"
   ]
  },
  {
   "cell_type": "code",
   "execution_count": 95,
   "metadata": {},
   "outputs": [
    {
     "name": "stdout",
     "output_type": "stream",
     "text": [
      "Acropolis Museum The Acropolis Museum (Greek: Μουσείο Ακρόπολης, Mouseio Akropolis) is an archaeological museum focused on the findings of the archaeological site of the Acropolis of Athens. The museum was built to house every artifact found on the rock and on the surrounding slopes, from the Greek Bronze Age to Roman and Byzantine Greece. The Acropolis Museum also lies over the ruins of part of Roman and early Byzantine Athens. The museum was founded in 2003 while the Organization of the Museum was established in 2008. It opened to the public on 20 June 2009.[1] More than 4,250 objects are\n",
      "145\n",
      "public on 20 June 2009.[1] More than 4,250 objects are exhibited over an area of 14,000 square metres. The museum is located by the southeastern slope of the Acropolis hill, on the ancient road that led up to the \"sacred rock\" in classical times. Set only 280 meters (310 yd), away from the Parthenon, and a 400 meters (440 yd) walking distance from it, the museum is the largest modern building erected so close to the ancient site The entrance fee to the museum was €1 for the first year and €5 thereafter. As of 2024, the entrance fee during\n",
      "138\n",
      "and €5 thereafter. As of 2024, the entrance fee during the winter season (1 November through 30 March) is €10, and €15 during the summer season (1 April - 31 October). The excavation below ground level continues. The site and process are visible through the ground level glass flooring. As of June 2019, the site is available for visitation. The Acropolis Museum was selected as the motif for a commemorative Euro coin edition: the €10 Greek Acropolis Museum commemorative coin, minted in 2008 to mark the relocation of the museum. On the obverse is a panoramic view of the Acropolis\n",
      "134\n",
      "On the obverse is a panoramic view of the Acropolis and the new museum lies at the base. References \"Wonderful Greece\". Archived from the original on 26 July 2015. Retrieved 13 June 2013.https://web.archive.org/web/20150726210657/http://video.minpress.gr/wwwminpress/Wonderful_Greece/WG_9_3 https://www.theartnewspaper.com/2025/04/01/the-worlds-most-visited-museums-2024-\n",
      "108\n"
     ]
    }
   ],
   "source": [
    "for x in chunks:\n",
    "    print(\" \".join(x))\n",
    "    print(len(enc.encode(\" \".join(x))))"
   ]
  },
  {
   "cell_type": "markdown",
   "metadata": {},
   "source": [
    "#### so now that we have a simple chunking technique we can split each document \n",
    "- and also add the metadata source to it "
   ]
  },
  {
   "cell_type": "code",
   "execution_count": 148,
   "metadata": {},
   "outputs": [],
   "source": [
    "path = \"/home/ko_st/Documents/rag_with_fastapi/rag-pipeline-with-fastapi/data\"\n",
    "\n",
    "\n",
    "def get_document_content(path):\n",
    "    document_sources = os.listdir(path)\n",
    "    for i,d in enumerate(document_sources):\n",
    "        with open(os.path.join(path,d),\"r\") as df:\n",
    "            # call function to split document and ingest\n",
    "            yield i,d,split_overlap_window_recurse(df.read(),4000,100,90)\n",
    "\n",
    "gen = iter(get_document_content(path))"
   ]
  },
  {
   "cell_type": "code",
   "execution_count": 149,
   "metadata": {},
   "outputs": [],
   "source": [
    "# get all chunks and add them to collection\n",
    "total_results= [(x[0], x[1], \" \".join(sublist)) for x in gen for sublist in x[2]] \n",
    "    "
   ]
  },
  {
   "cell_type": "code",
   "execution_count": 150,
   "metadata": {},
   "outputs": [],
   "source": [
    "metadata_with_docs = [\n",
    "    {\"id\":i,\"document\": x[2], \"source\": x[1]} for i,x in enumerate(total_results)\n",
    "]"
   ]
  },
  {
   "cell_type": "code",
   "execution_count": 151,
   "metadata": {},
   "outputs": [
    {
     "data": {
      "text/plain": [
       "[{'id': 0,\n",
       "  'document': \"Goulandris Museum of Cycladic Art The Nicholas P. Goulandris Foundation - Museum of Cycladic Art (Greek: Μουσείο Κυκλαδικής τέχνης) is a museum in Athens that houses a notable collection of artifacts of Cycladic art. The museum was founded in 1986 in order to house the collection of Cycladic and Ancient Greek art belonging to Nicholas and Dolly Goulandris.[1] Starting in the early 1960s, the couple collected Greek antiquities, with special interest in the prehistoric art from the Cyclades islands of the Aegean Sea.[2] The museum's main building, erected in the centre of Athens in 1985, was designed by the Greek\",\n",
       "  'source': 'd3.txt'},\n",
       " {'id': 1,\n",
       "  'document': 'centre of Athens in 1985, was designed by the Greek architect Ioannis Vikelas [el].[3] In 1991, the Museum acquired a new building, the neo-classical Stathatos Mansion at the corner of Vassilissis Sofias Avenue and Herodotou Street.[4] The museum\\'s permanent collection includes over 3,000 items, and was described in The New York Times as \"one of the world\\'s most significant privately assembled collections of Cycladic antiquities.\" Temporary exhibits are housed in the Stathatos Mansion.[3] The museum\\'s temporary exhibitions have included some of the most important Greek and international modern and contemporary artists. June–September 2009: Thomas Struth September–October 2009: Palle Nielsen Man,',\n",
       "  'source': 'd3.txt'},\n",
       " {'id': 2,\n",
       "  'document': 'artists. June–September 2009: Thomas Struth September–October 2009: Palle Nielsen Man, Dream and Fear - Orpheus and Eurydice Through the Eyes of Palle Nielsen May–September 2010: Louise Bourgeois - Personages Further reading https://en.wikipedia.org/wiki/Goulandris_Museum_of_Cycladic_Art#Further_reading',\n",
       "  'source': 'd3.txt'},\n",
       " {'id': 3,\n",
       "  'document': 'Acropolis Museum The Acropolis Museum (Greek: Μουσείο Ακρόπολης, Mouseio Akropolis) is an archaeological museum focused on the findings of the archaeological site of the Acropolis of Athens. The museum was built to house every artifact found on the rock and on the surrounding slopes, from the Greek Bronze Age to Roman and Byzantine Greece. The Acropolis Museum also lies over the ruins of part of Roman and early Byzantine Athens. The museum was founded in 2003 while the Organization of the Museum was established in 2008. It opened to the public on 20 June 2009.[1] More than 4,250 objects are',\n",
       "  'source': 'd1.txt'},\n",
       " {'id': 4,\n",
       "  'document': 'public on 20 June 2009.[1] More than 4,250 objects are exhibited over an area of 14,000 square metres. The museum is located by the southeastern slope of the Acropolis hill, on the ancient road that led up to the \"sacred rock\" in classical times. Set only 280 meters (310 yd), away from the Parthenon, and a 400 meters (440 yd) walking distance from it, the museum is the largest modern building erected so close to the ancient site The entrance fee to the museum was €1 for the first year and €5 thereafter. As of 2024, the entrance fee during',\n",
       "  'source': 'd1.txt'},\n",
       " {'id': 5,\n",
       "  'document': 'and €5 thereafter. As of 2024, the entrance fee during the winter season (1 November through 30 March) is €10, and €15 during the summer season (1 April - 31 October). The excavation below ground level continues. The site and process are visible through the ground level glass flooring. As of June 2019, the site is available for visitation. The Acropolis Museum was selected as the motif for a commemorative Euro coin edition: the €10 Greek Acropolis Museum commemorative coin, minted in 2008 to mark the relocation of the museum. On the obverse is a panoramic view of the Acropolis',\n",
       "  'source': 'd1.txt'},\n",
       " {'id': 6,\n",
       "  'document': 'On the obverse is a panoramic view of the Acropolis and the new museum lies at the base. References \"Wonderful Greece\". Archived from the original on 26 July 2015. Retrieved 13 June 2013.https://web.archive.org/web/20150726210657/http://video.minpress.gr/wwwminpress/Wonderful_Greece/WG_9_3 https://www.theartnewspaper.com/2025/04/01/the-worlds-most-visited-museums-2024-',\n",
       "  'source': 'd1.txt'},\n",
       " {'id': 7,\n",
       "  'document': 'Eugenides Foundation The Eugenides Foundation (Greek: Ίδρυμα Ευγενίδου) is a Greek private educational foundation. It was established in 1956 in Athens, Greece implementing the will of the late Greek benefactor Eugenios Eugenidis, who died in April 1954. The activity of the foundation, in accordance with its articles of association, is to contribute to the scientific and technological education of young people in Greece. The foundation is administered by a committee of three persons, which is participated by each professor which is elected as a rector of the National Technical University of Athens (NTUA) until the end of his term as',\n",
       "  'source': 'd2.txt'},\n",
       " {'id': 8,\n",
       "  'document': 'of Athens (NTUA) until the end of his term as a rector. For its multifaceted contribution to Greek society, Eugenides Foundation was honored in December 1965 with the gold medal of the Academy of Athens. Activities The activities and establishments of the Foundation include: a scholarship program granting 20 scholarships annually a scientific and technical library, a museum of science and technology, publishing of scientific and technical books, with over 45.000.000 copies of books published to date, a digital computerized planetarium, of dome diameter 25 m and a total surface of 950 m2, one of the best equipped in the',\n",
       "  'source': 'd2.txt'},\n",
       " {'id': 9,\n",
       "  'document': 'of 950 m2, one of the best equipped in the world. lecture halls and auditoriums. http://www.eugenfound.edu.gr/',\n",
       "  'source': 'd2.txt'}]"
      ]
     },
     "execution_count": 151,
     "metadata": {},
     "output_type": "execute_result"
    }
   ],
   "source": [
    "metadata_with_docs"
   ]
  },
  {
   "cell_type": "code",
   "execution_count": 152,
   "metadata": {},
   "outputs": [
    {
     "data": {
      "text/plain": [
       "True"
      ]
     },
     "execution_count": 152,
     "metadata": {},
     "output_type": "execute_result"
    }
   ],
   "source": [
    "client.create_collection(\n",
    "    collection_name=\"museum_collection\",\n",
    "    vectors_config=models.VectorParams(size=1024, distance=models.Distance.COSINE)\n",
    ")"
   ]
  },
  {
   "cell_type": "code",
   "execution_count": 153,
   "metadata": {},
   "outputs": [
    {
     "data": {
      "text/plain": [
       "UpdateResult(operation_id=0, status=<UpdateStatus.COMPLETED: 'completed'>)"
      ]
     },
     "execution_count": 153,
     "metadata": {},
     "output_type": "execute_result"
    }
   ],
   "source": [
    "\n",
    "collection_name = \"museum_collection\"\n",
    "client.upsert(\n",
    "    collection_name=collection_name,\n",
    "    points=[\n",
    "        models.PointStruct(\n",
    "            id=doc['id'],\n",
    "            payload = {\"text\":doc['document'],\"id\":doc['id'],\"source\":doc['source']},\n",
    "            vector=model.encode(doc['document'])['dense_vecs'])\n",
    "        for doc in metadata_with_docs\n",
    "    ]\n",
    ")"
   ]
  },
  {
   "cell_type": "markdown",
   "metadata": {},
   "source": [
    "### let's do some queries using our new logic  (we need to return many chunks)"
   ]
  },
  {
   "cell_type": "code",
   "execution_count": 186,
   "metadata": {},
   "outputs": [],
   "source": [
    "query =  \"tell me about the goulandris museum and about it's fees\"\n",
    "query_embedding = model.encode(query)['dense_vecs']\n",
    "\n",
    "\n",
    "top_k = 3\n",
    "query_result = client.query_points_groups(\n",
    "    collection_name=collection_name,\n",
    "    query=query_embedding,\n",
    "    with_vectors=True,\n",
    "    with_payload=True,\n",
    "    limit=top_k, # we can limit the results\n",
    "    score_threshold = 0.55, # we can also set a minumum score for returning results   \n",
    "    group_by = \"source\"\n",
    ")"
   ]
  },
  {
   "cell_type": "code",
   "execution_count": 187,
   "metadata": {},
   "outputs": [
    {
     "data": {
      "text/plain": [
       "GroupsResult(groups=[PointGroup(hits=[ScoredPoint(id=0, version=0, score=0.6238376, payload={'text': \"Goulandris Museum of Cycladic Art The Nicholas P. Goulandris Foundation - Museum of Cycladic Art (Greek: Μουσείο Κυκλαδικής τέχνης) is a museum in Athens that houses a notable collection of artifacts of Cycladic art. The museum was founded in 1986 in order to house the collection of Cycladic and Ancient Greek art belonging to Nicholas and Dolly Goulandris.[1] Starting in the early 1960s, the couple collected Greek antiquities, with special interest in the prehistoric art from the Cyclades islands of the Aegean Sea.[2] The museum's main building, erected in the centre of Athens in 1985, was designed by the Greek\", 'id': 0, 'source': 'd3.txt'}, vector=[-0.040013667, -0.03455027, -0.058284238, 0.014043867, 0.03426559, -0.033374347, -0.056560367, -0.0427775, 0.05392534, 0.019773845, 0.02913451, 0.05318233, -0.010293764, -0.0016061268, 0.016938712, -0.04130089, 0.04490174, 0.019878546, 0.0019411463, -0.039086033, -0.03713034, -0.045433793, -0.0022707896, -0.020135434, -0.005158694, 0.0354794, -0.0023465361, 0.0021156303, -0.0035078407, -0.023261081, 0.001986911, -0.014690005, 0.014104832, 0.011797503, -0.027757976, -0.007652054, -0.0013078419, 0.011506564, -0.04572232, 0.0013863213, -0.0038210552, 0.037144218, 0.02795252, 0.023371954, 0.003233159, -0.05670245, 0.011461983, -0.018735284, -0.032109454, -0.0016275344, -0.007460647, -0.02752419, -0.012986977, -0.008747958, 0.03500052, 0.0259741, -0.039475612, -0.031510346, -0.005293383, -0.02627582, -0.02697006, -0.008505475, 0.0126147745, 0.02321654, 0.016240932, 0.079589486, -0.010276947, 0.022481477, -0.03914813, 0.009340898, -0.015631178, -0.016806455, -0.005655409, -0.0070868353, -0.05528478, -0.008468988, -0.052526474, -0.0049691205, -0.021715203, 0.027162148, 0.03835559, -0.0023462346, 0.019866657, 0.0078051332, 0.0119533865, 0.037157066, -0.028025368, -0.0258983, 0.0005888228, -0.026822997, -0.016443891, 0.038343683, 0.01841763, -0.022139426, -0.02373127, 0.019892102, -0.027749037, -0.017453171, 0.006856776, -0.026465952, -0.0031402633, 0.0013732273, -0.020299004, -0.030450502, -0.020877387, 0.021656735, 0.04846019, 0.039213993, -0.038483292, 0.007972859, 0.021799792, 0.023768231, 0.017053168, 0.011910186, -0.031802375, -0.016839424, -0.035439763, 0.012790687, 0.0020544736, 0.0067779687, -0.009713742, 0.017368345, 0.03271299, -0.0068023554, 0.011915349, -0.038728096, 0.036727104, -0.015897166, -0.022763189, 0.027491624, 0.026920468, 0.019731678, -0.008950737, 0.0059001516, -0.00079321425, -0.01525475, 0.030778805, 0.008142941, 0.019548606, -0.031212604, 0.057400532, 0.0336707, -0.024615265, -0.059131645, 0.04618514, -0.0028796352, -0.043025848, -0.030454112, -0.0057645715, 0.010661448, 0.022462362, -0.008382374, 0.0176263, -0.015794182, 0.034013484, -0.021376144, -0.025807425, 0.062290687, -0.056861497, 0.050440308, -0.025984988, 0.0073783593, 0.0112359105, 0.01518912, 0.03479948, 0.013618493, 0.048563976, 0.01203748, 0.013540803, -0.025226185, 0.00093900046, -0.07837707, -0.0007537004, 0.012260151, 0.024113318, 0.034584977, 0.031258773, 0.014637786, -0.0073464895, -0.02299039, -0.027765881, 0.045558285, 0.0048154634, 0.03255408, -0.0035246285, 0.011068419, -0.02034794, -0.027337978, 0.015630173, 0.05764781, -0.05892782, -0.016301267, 0.049677476, -0.007551099, -0.0008598707, -0.001616949, 0.0030565376, 0.011088543, -0.06282434, -0.05509991, -0.0452577, 0.015795453, 0.044762123, 0.019694839, 0.04638661, -0.04353315, 0.0014196783, -0.0027872853, 0.05658137, 0.037622444, -0.009130697, 0.04599235, -0.0010333689, -0.02159511, -0.030559095, 0.011282077, 0.031453636, -0.013597965, 0.0012333113, 0.028253468, 0.008620364, 0.02777053, 0.022625592, 0.01753274, 0.03213656, -0.023885965, -0.025150532, -0.024724923, 0.0255946, -0.031461377, 0.031560957, -0.013489439, 0.0064011486, 0.011657264, 0.0021709346, -0.0050461786, 0.02314655, -0.025681976, -0.022187382, 0.043808904, -0.048643976, 0.0252288, -0.0073340805, -0.035647374, 0.0052560084, -0.008529115, -0.023800122, 0.025554301, 0.01761671, -0.02519103, 0.03540363, 0.008305522, 0.005525932, 0.046945095, -0.0031660914, 0.021759138, -0.01338677, -0.014637959, 0.013837871, -0.028382313, 0.023327468, -0.010498928, 0.02865855, 0.039749093, 0.038551748, -0.028132658, -0.033371203, -0.04645222, 0.04768765, 0.0081606135, 0.0367959, 0.048779797, -0.04318588, 0.028520562, 0.010307885, -0.01778492, 0.011219297, -0.013694671, 0.004637119, 0.010387313, -0.032307666, -0.056798004, 0.028229523, 0.01336997, -0.05993471, -0.0036399444, -0.014718044, 0.017108196, -0.031759642, -0.022242889, -0.013189935, -0.042008314, 0.054555528, 0.038336396, -0.00912841, -0.061998904, -0.038498797, -0.1685208, -0.020822303, -0.01726417, -0.021955576, 0.0074445135, 0.012308979, -0.025332468, -0.09683567, -0.020739723, 0.007217649, -0.018891716, -0.04303743, -0.0404585, 0.0015982315, -0.006514765, -0.006280041, 0.01783183, -0.02945255, 0.010314717, -0.029614465, 0.0113532515, -0.019596556, 0.029625516, 0.00893641, 0.037145622, -0.015676947, 0.035892524, 0.0027851902, -0.03062744, 0.0022343912, 0.04143692, -0.008056468, -0.0016534608, 0.039821334, 0.037787043, 0.006592047, 0.06563159, 0.014171789, 0.00255382, -0.022518244, 0.01970473, 0.015169441, 0.012034324, 0.011464776, -0.028419869, -0.052185055, -0.0080770785, 0.032688722, 0.04027907, 0.036110032, -0.008789049, 0.02603675, -0.049702235, -0.0038675268, -0.00107544, 0.003161111, -0.04035702, 0.024416393, -0.027002444, -0.013922658, 0.017946515, -0.071637884, -0.012322368, -0.020239133, 0.03503651, 0.03608423, -0.022089709, -0.031930964, 0.0049853697, 0.0067905462, -0.010203559, 0.014898537, -0.023284901, 0.0052145263, 0.0055740112, 0.017176922, -0.041004416, -0.004503235, 0.016263114, -0.06910949, -0.0005004218, -0.00594909, 0.014749316, -0.03070716, -0.028648553, 0.0067339432, -0.016805321, -0.0030371477, 0.053863466, 0.23437496, 0.0065661618, 0.012244029, 0.0017098367, 0.03696991, -0.027387004, 0.0035863311, -0.027420513, 0.0024456389, -0.004817873, 0.014197654, 0.012560291, -0.009462789, -0.04156643, -0.0065611983, 0.075206086, -0.033024535, 0.024519207, 0.056319218, -0.021389347, -0.023657188, 0.0048477035, 0.0103978915, 0.03340612, 0.008233144, -0.02683581, 0.012120617, 0.038146153, -0.023225315, 0.020933492, -0.020679126, -0.004860329, 0.0161474, 0.005375915, -0.0003940065, -0.028454049, -0.009884324, -0.044900972, 0.017828194, 0.018899217, 0.013974763, -0.010853849, 0.031569503, 0.002711665, -0.015697688, 0.014081408, 0.013737216, -0.018544033, -0.0257142, -0.016987143, -0.04961954, -0.0039871405, -0.026081327, 0.005084264, -0.015031508, -0.016494023, -0.026460188, -0.009013875, -0.023220725, -0.010206024, -0.023907254, 0.007188005, -0.038110133, -0.025650749, -0.03661713, 0.010975836, 0.03666114, -0.020821268, -0.020207152, -0.0008301563, 0.06654881, -0.008759276, -0.08396724, -0.024234049, 0.0046335105, 0.03942841, 0.024297016, 0.08053399, 0.0055579203, 0.0068126717, 0.0056577977, 0.004511167, -0.022036143, 0.03298134, 0.022831444, -0.0097304685, -0.012452647, -0.012059774, -0.025769137, -0.042336755, -0.0023770686, -0.018521797, -0.025831284, 0.016700136, 0.0025871836, -0.09083884, 0.0057706167, -0.056376204, -0.027592706, -6.511384e-05, -0.03469748, -0.024318494, -0.017047895, -0.05797381, 0.026362078, -0.081356585, -0.021750847, 0.021653978, 0.022010814, -0.022744259, 0.061009504, -0.012978605, -0.022483546, 0.013484579, -0.031452104, 0.030942177, 0.00894794, -0.026862664, -0.035018627, 0.070008054, -0.00023186457, 0.013384205, -0.010661734, -0.061287403, -0.10282518, 0.03213238, -0.016827855, -0.039478954, -0.0149335265, 0.018507699, 0.0015416689, -0.028416444, -0.041905757, 0.009925893, 0.04905698, -0.0064212875, 0.012614916, 0.010969285, -0.050798632, 0.0017089782, 0.012928453, -0.042908452, -0.02633282, 0.01400124, -0.0077874246, -0.023363754, 0.0015257996, 0.04069981, 0.020697316, -0.026750935, 0.011659643, 0.0018372815, -0.0030994306, 0.01176838, 0.016784078, 0.017218458, -0.0038724777, 0.013064264, 0.016547818, 0.010730025, 0.010262872, 0.024267966, 0.026801044, 0.07761057, 0.030128883, 0.007131951, -0.032919805, 0.07232587, 0.054501753, 0.018079316, -0.0004503438, 0.000246188, -0.059432972, 0.038167935, 0.06033629, 0.020838402, -0.004736818, 0.054340035, 0.027174773, 0.011219743, 0.007510447, 0.016887154, -0.008495114, 0.003692606, 0.03098266, 0.023565667, 0.03834856, -0.019375686, -0.028374469, -0.019816753, -0.04801923, 0.0470983, -0.007968986, -0.011102089, -0.007055993, -0.052594826, -0.003120679, -0.011902063, 0.030877057, 0.00542326, -0.0046517462, -0.02061959, 0.00011783293, -0.02806522, -0.047736004, -0.010824065, 0.020030156, 0.047405865, -0.075317316, -0.006581422, -0.02050896, 0.027243761, 0.02463067, -0.017663319, -0.02244027, -0.0062344503, 0.02668258, 0.011357102, 0.0065843416, -0.054365087, 0.021847287, -0.024603905, 0.013443192, -0.025606113, -0.0132138645, -0.023298915, -0.0062326523, 0.0019516674, -0.02078767, 0.069008686, 0.0021217838, -0.03218116, -0.024035478, -0.015896076, 0.051351734, -0.006289366, 0.029856786, 0.006941155, 0.021460975, 0.015155095, 0.024423534, -0.039340626, 0.026100025, 0.008530925, -0.023734713, -0.0098108165, -0.0040112576, -0.018416803, 0.06381818, 0.07380768, -0.012018781, 0.05273202, 0.011655219, 0.044946063, 0.012673012, 0.010485799, -0.02188368, 0.00019678191, -0.0546405, -0.029468449, 0.019855151, 0.02159722, -0.019334238, -0.007309874, -0.031448316, -0.0021187698, -0.019738065, -0.038553346, -0.03046644, -0.0013237144, 0.015151573, -0.004683056, -0.03528899, 0.029847015, 0.061626658, 0.015150951, -0.0070669753, 0.020018391, -0.076205656, 0.0039456533, -0.030689867, 0.054096166, 0.027928742, -0.030090252, -0.060146526, 0.020513183, 0.03948101, 0.03519406, 0.0045790817, -0.03779553, 0.011231302, -0.0039014937, -0.065572724, 0.0037167121, -0.013186165, 0.0018835114, -0.08342585, 0.033862557, -0.0030164376, -0.008656786, -0.0016160307, 0.03907428, -0.07221929, -0.0017855023, -0.04906271, -0.0054834364, 0.022101544, -0.012964929, 0.016156891, -0.011437871, 0.016226057, -0.022644188, 0.01578802, 0.01773112, -0.031070527, -0.0050615263, 0.015971512, -0.0069404133, 0.016958762, -0.009583384, 0.053978965, -0.013211414, 0.019475695, 0.0019872491, -0.013030226, -0.009706685, 0.017876774, 0.019165255, -0.009169834, -0.0011655512, -0.0060007037, 0.04917002, -0.017067673, 0.035446554, -0.04111091, 0.008880273, 0.0054388284, -0.005525363, 0.029627228, -0.013598571, -0.007903287, 0.019730564, 0.023614302, -0.019993575, 0.012562137, -0.03534723, 0.012336257, 0.009764416, -0.005903417, 0.009847115, -0.047066353, 0.06872127, -0.0017437637, -0.07183586, -0.007905069, -0.020986684, -0.004029629, -0.015122742, 0.033256155, 0.007947102, -0.0053533334, 0.015616377, 0.02405655, 0.02712035, 0.032261018, 0.017364921, -0.004197243, -0.044991337, 0.026911212, 0.0074748783, 0.016415427, 0.034220546, -0.024788395, -0.016869549, -0.015735012, -0.0016686205, -0.04127552, 0.011178309, 0.024297604, -0.016796943, -0.034684833, -0.0010110057, -0.059959352, -0.028192833, -0.0019229888, 0.04717636, -0.03509039, -0.02423679, -0.011855773, -0.011264533, -0.059770875, 0.057066742, -0.04669651, -0.019859726, -0.14783256, 0.02515639, -0.009123755, -0.009319705, -0.087327346, -0.0029402648, -0.022038436, 0.0037527834, 0.021017028, -0.03293245, -0.012929297, 0.06463224, -0.009172012, 0.004084623, 0.004500859, 0.07380952, -0.022280537, -0.012623655, -0.00023688062, 0.020468054, -0.00774572, -0.023614578, 0.0021753816, -0.0075652963, -0.010831048, -0.022185178, 0.0134701915, -0.007572519, -0.0025992705, -0.023575254, 0.027980033, -0.08277687, -0.0035587375, 0.012294004, -0.0050742193, -0.022738399, -0.013645417, -0.012887016, 0.009155854, 0.058923833, -0.0335005, 0.0074869585, -0.027927846, 0.02162944, -0.0034063407, 0.025318814, -0.0063093742, -0.006367397, -0.041368246, -0.006889962, 0.044509016, -0.003315174, 0.031563748, 0.065095335, -0.020918656, 0.020811476, -0.022047732, 0.049034342, -0.021736942, 0.05632744, 0.0154804075, -0.036228526, 0.01108441, -0.044705246, -0.046810463, 0.04779258, -0.011796022, 0.015812395, 0.0075849025, -0.054960698, 0.0250703, 0.009173269, -0.0032658235, -0.03694383, 0.029830607, 0.019594144, 0.035440166, 0.0023256268, -0.032978576, 0.0070875185, 0.012480488, -0.062254626, -0.030891605, -0.025138196, 0.036171097, 0.017555615, -0.05571675, -0.017288156, 0.020384705, -0.000754432, -0.02696983, 0.0003277498, -0.034478497, -0.017495094, -0.06251364, 0.050243948, -0.055484083, -0.003917164, -0.020877214, -0.03185425, -0.010319062, -0.01906825, 0.0016501104, -0.034139406, -0.040413845, 0.032897476, -0.005563217, 0.0035662486, -0.00085522444, 0.018768568, -0.03672932, 0.006455526, -0.035381608, 0.0047736694, 0.03219664, 0.039290402, 0.013272987, 0.011185184, 0.010610586, 0.0036672875, 0.007111887, 0.027067155, 0.0045447266, -0.018623551, -0.03236704, 0.054882906, 0.0745326, -0.016357366, 0.023641577, 0.012956373, 0.019339291, 0.013435785, -0.013907396, 0.03714635, 0.061623544, 0.0038201513, -0.005094596, 0.023750458, 0.0027693007, 0.0040209177, 0.0193914, 0.058101933, 0.037643842, 0.0033830304, -0.01718924, -0.020247698, 0.015452568, -0.0225141, -0.0037004203, 0.0018809001, -0.014341547, -0.012827816, 0.0184875, 0.019021455, 0.006510778, -0.014992373, 0.0046474617, -0.01948075, 0.012652316, 0.019340433, -0.010658471, -0.027750004, -0.027301107, -0.0052079954, -0.026458122, -0.015569374, -0.017376337, 0.010829263, -0.025094401, -0.0063259937, 0.00035592625, 0.034157597, -0.042852987, 0.032191694, -0.013977606, -0.061904904, 0.029933173, 0.077035606, 0.021724729, 0.033879388, 0.020498505, -0.009992452, 0.0026130776, -0.013407641, -0.0018783808, -0.050273202, -0.03894925, 0.048325058, -0.000665245, -0.025175322, -0.04632409, -0.0075338352, 0.017643062, 0.023799492, 0.02721481, 0.038272526, 0.0019911043, 0.07706192, 0.03610167, 0.042825382, -0.0020278401, -0.005946782, -0.012226401, 0.04301993, -0.0014524492, 0.016814953, 0.07317063, -0.03972882, 0.014741484, -0.027681502, -0.055473275, -0.011348231, -0.0082457205, 0.033861913, 0.04824986, -0.012277007, 0.012829406, 0.0031442263, -0.033203233, 0.024916723, 0.009893896, 0.03171419, -0.056497023, 0.032514084, 0.006843906, -0.026546644, -0.023498503, 0.002433873, -0.021128621, 0.0037230975, -0.010678712, 0.024388429, 0.011139913, 0.053863812, 0.0027674935, -0.033272803, 0.02920509, -0.0062325587, 0.024400882, -0.011687013, 0.06856654, 0.0038953742, 0.0072446126, -0.046170983], shard_key=None, order_value=None)], id='d3.txt', lookup=None), PointGroup(hits=[ScoredPoint(id=4, version=0, score=0.55193555, payload={'text': 'public on 20 June 2009.[1] More than 4,250 objects are exhibited over an area of 14,000 square metres. The museum is located by the southeastern slope of the Acropolis hill, on the ancient road that led up to the \"sacred rock\" in classical times. Set only 280 meters (310 yd), away from the Parthenon, and a 400 meters (440 yd) walking distance from it, the museum is the largest modern building erected so close to the ancient site The entrance fee to the museum was €1 for the first year and €5 thereafter. As of 2024, the entrance fee during', 'id': 4, 'source': 'd1.txt'}, vector=[-0.0072081815, -0.032629937, -0.025238289, 0.03665214, -0.0034862517, -0.034890417, -0.028408978, -0.033730235, 0.04361916, 0.019917646, 0.0495967, 0.054894518, 0.015681885, -0.014791544, 0.01278689, -0.02295113, 0.05323476, 0.011417477, 0.024423113, -0.0063582133, 0.0124480305, -0.048175655, -0.033884432, -0.0080134, 0.025867356, 0.023181954, -0.018921137, 0.035619814, -0.016975632, -0.04111105, -0.0077197403, -0.021857869, 0.039634217, 0.019466788, -0.03790529, -0.07595094, 0.0021331778, 0.0008613787, -0.051443316, 0.0015301132, -0.013162908, -0.0050055822, 0.029487185, 0.038490146, 0.027678974, -0.059848692, -0.022473963, -0.03845802, -0.047994938, -0.017487882, 0.005226089, -0.03652156, -0.020207651, -0.0139030125, 0.0035423175, 0.0018959184, -0.024122331, -0.012609587, -0.042994834, 0.010227375, -0.03677122, 0.0010362335, 0.0067897895, -0.0070558446, 0.03934125, 0.04748124, -0.02079849, 0.010438429, -0.018886315, -0.01009399, -0.032337774, -0.004115329, -0.007043234, -0.005328755, -0.048990034, -0.0076359706, -0.014377913, -0.0018953014, -0.016205834, -0.0017175234, 0.0422856, -0.021309162, -0.025640443, 0.013946194, 0.013962992, 0.0773581, -0.016429847, 0.005157563, 0.031267367, -0.014294551, -0.022048669, -0.0145797515, 0.03642633, -0.009536783, -0.026537849, -0.0019648913, -0.01706005, 0.0070850262, 0.036603555, -0.015342888, 0.027613852, 0.011297126, 0.0296833, -0.012538681, -0.03331211, 0.03467755, 0.035127588, 0.044319496, 0.0032090405, 0.0010821234, 0.018542534, 0.026711749, 0.012885415, 0.009589755, -0.013310497, -0.031510513, -0.020307926, -0.012222099, -0.038107947, -0.019186193, 0.008146079, 0.028034806, -0.00096628506, -0.01498043, 0.015462554, -0.044060796, 0.032271665, -0.00068009616, 0.02439629, 0.040373705, -0.008948491, 0.032082573, -0.031728663, 0.030427594, -0.023694457, -0.043148626, 0.017940313, 0.022566201, 0.026611608, -0.05016027, 0.0066013453, 0.008524734, -0.042859256, -0.06283083, 0.081446715, 0.0014151739, -0.021767687, 0.030291753, 0.022194156, -0.009709206, -0.022286536, 0.025020322, 0.040702138, -0.01628082, -0.015785936, 0.03552808, -0.038637802, 0.00709205, -0.08015933, 0.025604466, -0.0058657615, -0.005969717, -0.059190813, 0.005845238, 0.04960722, 0.011509316, -0.0008695473, 0.02042917, -0.0116149895, -0.014500585, -0.024793338, -0.06845648, 0.0006294207, 0.020385506, 0.003016519, 0.028501967, 0.05618878, 0.0024509982, -0.002897519, -0.058373798, -0.028987762, 0.019188765, 0.0038276184, 0.038016785, -0.013662502, 0.022574002, 0.010637157, -0.004455162, 0.019377423, 0.06030805, 0.005144037, -0.010157542, 0.005700729, -0.027067797, 0.013545758, -0.008325897, -0.013959749, 0.018458672, -0.033270024, -0.039141383, -0.053520177, 0.0413538, 0.041150674, 0.053281873, 0.0032363483, -0.023204947, 0.005318577, 0.009316216, 0.048047185, -0.039345846, -0.058921166, 0.003260974, 0.050712295, -0.0069242357, -0.025453443, 0.03781959, 0.023676911, -0.010989038, 0.036511995, -0.027561123, -0.03637224, 0.02052856, 0.020983929, -0.014288754, 0.031646997, -0.0009814157, -0.0419856, 0.042712253, -0.016743723, -0.032748125, -0.011769373, 0.006695121, -0.002547488, 0.00397843, 0.013297894, -0.016831184, -0.004714928, -0.009071853, -0.032602243, 0.03702772, -0.009686871, -0.015582412, -0.009941756, 0.02471889, 0.00065945304, -0.0018820396, -0.009324194, 0.040661104, 0.01609614, -0.006692446, 0.03680832, -0.026933732, 0.01852879, 0.012214516, 0.031282883, -0.007572622, 0.009419257, -0.020555569, -0.049267363, 0.00088773953, 0.0052861134, -0.04440755, -0.0077522565, 0.046933472, -0.009193794, -0.034254927, -0.026663337, -0.008202058, 0.04467996, -0.016738998, 0.037154905, 0.03874454, -0.03355151, -0.019891744, 0.01923181, 0.014607844, -0.017367704, 0.012292359, -0.034009356, 0.00096934556, 0.00090528483, -0.021449002, 0.0016654644, -0.014513118, -0.017641691, 0.015500234, -0.022567699, 0.01949834, -0.022022204, -0.0176754, -0.06659397, -0.029657045, 0.058552664, 0.021894712, 0.032845285, -0.06872213, -0.00650247, -0.17857766, -0.046033736, -0.004627959, -0.010842225, 0.006185129, 0.0074149617, -0.02728018, -0.09407755, -0.032851934, 0.016961684, -0.06409088, -0.038362294, -0.061562676, 0.020384008, 0.032934695, 0.009911526, 0.013103018, -0.005378147, 0.0021843242, -0.0325891, -0.026562262, 0.025387019, 0.053766243, 0.07270124, 0.022067524, 0.000563059, 0.027699072, -0.004879226, -0.014808777, 0.023930505, 0.014799932, -0.0386408, -0.0051883417, 0.0239385, 0.07196987, 0.027636008, 0.05600456, -0.014547402, -0.007625661, 0.021158678, -0.0053844894, 0.047226414, -0.009443034, 0.027889356, 0.009108527, -0.035504844, -0.02624178, -0.03287175, -0.012549255, -0.010482461, -0.0002625138, 0.019848568, -0.012753677, -0.033507917, -0.034195524, 0.043029387, -0.016772911, 0.025917267, -0.043715023, -0.015585653, 0.022966469, -0.06842992, 0.040015016, -0.00057639583, 0.088227384, 0.020877078, -0.02712298, -0.03082231, 0.019814868, -0.0094787795, 0.0020073003, 0.028557003, 0.026900504, -0.00771427, 0.048750244, 0.024099097, -0.025227828, -0.009880288, 0.012138016, -0.08390407, 0.012108956, 0.0018258055, -0.014881344, 0.028391905, -0.039550863, -0.025747089, -0.0051150643, -0.013091973, 0.06732583, 0.26515827, -0.02961609, 0.041623984, 0.047104705, 0.0023682402, -0.0014535632, -0.009822182, 0.010150796, 0.009786707, 0.0040884293, 0.017548587, 0.019644763, 0.01988351, -0.0069947806, 0.029768027, 0.07478253, -0.05978391, 0.007959166, 0.05414314, -0.046755955, 0.019628443, -0.049781587, 0.017624171, 0.040048122, -0.015350177, -0.05176571, 0.004963109, 0.068343595, 0.0027617838, 0.05418059, -0.0071189795, -0.024239445, 0.0003891967, 0.01624748, -0.039838623, -0.0010931903, 0.028517904, 0.0076583643, -0.02667149, 0.011761106, 0.029027728, -0.027705401, 0.016855817, -0.0101418095, 0.009293269, -0.030315967, 0.004127332, 0.011535793, 0.00219005, -0.05081647, -0.031899616, 0.007066422, -0.025800407, -0.011372537, -0.0567671, 0.039921235, -0.027586782, 0.0074451733, -0.022102553, 0.025722401, 0.012840599, 0.014331301, 0.025194442, 0.00882839, -0.029725386, -0.064066954, 0.018188542, -0.011782506, -0.037541773, 0.024474584, 0.013003013, -0.0047697397, -0.03322502, -0.002555871, 0.036621153, 0.048646692, -0.030523572, 0.05803655, 0.050692845, 0.004351094, 0.028074905, -0.0062443274, -0.02588904, 0.039265536, -0.0021153756, 0.002491823, 0.012538925, -0.0015788983, -0.01597538, -0.027417677, 0.016496547, 0.0070907585, -0.047098696, -0.0073685474, 0.009567444, -0.026232965, -0.017983086, -0.0016189908, 0.0066312933, -0.023005707, -0.04038046, -0.029224053, -0.019703425, -0.0120469, 0.007899493, -0.026435968, 0.005691409, -0.020031268, -0.0534917, -0.05698787, 0.007472127, 0.011156466, -0.004607942, 0.021929422, -0.045674052, 0.016530901, 0.04100909, -3.561322e-05, 0.023452558, 0.080760375, -0.020424627, -0.03666583, 0.020467129, -0.024667958, -0.037228867, 0.021652702, -0.040289983, 0.0060056155, -0.02935139, 0.017621653, -0.032637976, -0.027854623, -0.03533965, -0.0048711123, 0.058418702, -0.024298657, 0.035799466, 0.013734185, -0.02626769, -0.0061000376, -0.02518014, -0.03037863, -0.033870548, -0.045588546, 0.022938272, -0.005740577, 0.01505585, -0.004937769, -0.0060489187, -0.014937607, 0.026982283, 0.03225039, 0.012616112, -0.034299582, -0.028991686, 0.0005368407, -0.021598686, 0.009849874, -0.002277776, 0.011525774, 0.024037315, -0.0029726885, 0.03525281, 0.10596951, 0.024254715, 0.003116857, -0.047552116, 0.001657881, 0.028914133, -0.0035242257, 0.013086095, -0.009792448, -0.03896065, 0.039979853, 0.043717578, 0.015686117, 0.022992233, 0.0074497056, 0.020347798, 0.018133411, -0.006271521, 0.0037070801, 0.014905018, -0.009058497, 0.0075723585, -0.02495381, 0.001681257, -0.025335211, -0.04300577, -0.04149445, -0.014559695, 0.04642524, 0.0017876134, -0.019518448, 0.0023511772, -0.05528806, 0.016100029, -0.05278538, -9.476594e-05, -0.0026486865, -0.02160977, 0.016543519, 0.008859318, -0.027621042, -0.023453278, 0.0037774465, 0.005728727, 0.017568598, -0.014354628, -0.030818582, -0.011768636, -0.023810659, 0.097842485, -0.01274171, -0.00783075, -0.016532727, 0.020168392, 0.03425838, -0.03194408, -0.051219527, -0.01011484, 0.004199748, 0.03616193, -0.038629584, 0.020345345, 0.030410238, 0.012461475, -0.0123928515, -0.01515346, 0.024314566, -0.010237411, -0.024871415, 0.017719407, -0.026003363, -0.002182373, -0.0034641735, -0.0043773567, 0.001238296, 0.006823765, -0.008620918, 0.02954185, -0.025877656, 0.0034262799, 0.014012494, 0.01117314, 0.021480251, 0.008006935, -0.044932324, 0.082279414, 0.024753304, -0.063256346, -0.0046665426, -8.6342734e-05, 0.0068771546, 0.010030032, -0.01327431, 0.021438887, -0.004836439, -0.045655258, -0.0042351442, -0.021593114, 0.026270116, -0.009659163, -0.008821115, 0.026799316, -0.0017336325, 0.0071627903, -0.022778545, -0.053044386, 0.0029801454, 0.0043973653, -0.0216026, -0.05773726, -0.0060191965, 0.019445399, 0.03125534, 0.041931305, 0.014406324, -0.04824895, -0.030536003, -0.017752463, 0.020590907, 0.036595706, 0.0023031507, -0.046867255, 0.007873882, 0.014826923, -0.018908717, -0.0066455407, -0.022187116, 0.0034687014, -0.026950287, -0.04438417, 0.015750313, 0.015928797, 0.0014868232, -0.07046692, -0.014653901, -0.024871146, -0.0007930474, -0.0024789823, -0.015998363, -0.058198575, -0.010966583, -0.04514339, -0.004198909, 0.030182134, -0.0069539994, -0.01211529, -0.011551144, 0.026312076, 0.004795183, 0.034739565, 0.04288777, -0.028724302, -0.017276479, 0.033638567, 0.024536664, -0.011957029, 0.0020670611, 0.035635162, 0.00038865878, -0.0072904355, 0.0055759707, 0.0030348485, 0.026611539, 0.026932808, 0.027331874, 0.012381663, -0.021451142, 0.013283081, 0.016843252, -0.011932915, -0.004733434, -0.012391304, -0.0092764655, 0.0013321994, -0.013243367, 0.019397937, 0.012417241, -0.0310331, 0.013964823, 0.029646607, -0.032078456, -0.016583921, 4.4220156e-05, 0.011986439, -0.03842728, -0.022726329, 0.039814122, -0.0130345, 0.061632443, -0.020611407, -0.04165591, 0.010433842, -0.05169672, -0.019733032, -0.009085615, -0.031099558, -0.0039105974, -0.026016504, 0.016102511, 0.02799042, 0.021089742, 0.01783392, 0.03964066, -0.034404777, -0.01934297, 0.015820712, -0.010561134, -0.013419682, 0.06431571, 0.0012894778, -0.020157726, -0.006849252, 0.011217792, 0.013210391, -0.027920634, 0.056093372, -0.023616847, -0.0028018297, -0.03151678, -0.057502177, -0.057455458, -0.008561255, 0.026939513, -0.013284583, -0.0077310083, 0.0004044927, 0.018238565, -0.09370292, 0.016922371, -0.024060339, 0.018188301, -0.1556338, 0.062369797, -0.023661708, -0.019528918, -0.031274963, -0.007611535, -0.03988515, -0.0069932994, 0.04886643, -0.051965635, -0.003922036, 0.04486381, 0.0014611434, 0.024278117, -0.041734405, 0.08926689, -0.007030794, -0.022733463, -0.005020375, 0.0073860446, -0.008841556, -0.022311443, 0.001925151, 0.04019138, 0.018823635, -0.024115158, 0.029390499, -0.016317833, -0.026140634, 0.00052543083, 0.011744993, -0.049659774, 0.0071590836, 0.053663712, 0.009384196, -0.015558473, 0.008809269, -0.009276333, -0.029188747, 0.032580223, -0.03293729, 0.012431515, -0.03346522, 0.016040731, -0.007134219, 0.012648842, 0.016997056, 0.015120918, -0.06175607, -0.00838406, -0.008392436, -0.0010292922, 0.009196343, 0.008306212, -0.034565307, 0.024703871, -0.009401052, 0.028403627, -0.015642846, 0.03503393, -0.012531921, -0.020904303, 0.0005423364, -0.033275638, -0.04205171, 0.04953569, -0.034707446, 0.013629017, 0.0453524, -0.043431133, -0.020069487, 0.019639274, 0.011911077, -0.027884722, 0.023122031, 0.04296492, 0.022101743, -0.011871265, -0.024210643, -0.0036942859, 0.020016585, -0.031144664, 0.003700489, -0.058326006, 0.081761196, 0.030154051, -0.034717634, -0.021204973, -0.02807555, 0.016111653, -0.050209653, -0.035989318, -0.024945464, 0.013344552, -0.03166629, 0.030256836, -0.04736152, 0.014015806, -0.03749165, -0.04027547, 0.01598309, 0.051196896, -0.026613329, -0.037748225, -0.008418009, 0.062191002, -0.0139882285, -0.023926072, 0.00774404, -0.015048662, -0.07079828, -0.0355072, 0.0064805225, -0.0072832536, -0.008677707, -0.0015299888, -0.012394804, 0.027089048, 0.021045169, -0.016827833, -0.00209158, 0.022413263, 7.830435e-05, -0.016930759, -0.024952555, 0.048907354, 0.059828598, -0.013410908, 0.019439347, -0.015114169, 0.019592693, 0.02683367, 0.0110369995, 0.009936305, 0.047764592, -0.007189767, 0.060842507, 0.03191243, 0.010753635, -0.046801202, -0.021200757, 0.0117057515, 0.0073113493, -0.008759986, 0.006038869, -0.006977157, 0.042786837, -0.006043055, 0.029674182, -0.026243875, 0.0034149834, -0.018772524, 0.017253319, 0.030845135, -0.023769291, 0.009047809, 0.0045002974, -0.017645339, -0.009185548, 0.025324663, -0.0062429802, -0.021921556, -0.025815861, -0.003268053, 0.049813528, 0.011170601, 0.011637661, 0.007839, 0.0063102716, 0.008701633, -0.0031495448, 0.03734739, -0.041095827, 0.05030435, 0.008251835, 0.008844504, 0.011569583, 0.051570684, 0.06170674, 0.04706515, 0.027487263, 0.031770054, 0.02445121, -0.0024049785, -0.009688892, -0.014844996, -0.053207032, 0.04721235, 0.0024907112, -0.004023862, -0.027175482, -0.026514051, -0.012706664, -0.0052639996, 0.023220165, 0.012274174, 0.02045364, 0.07089421, 0.03555519, 0.022735644, 0.01924978, -0.012837079, -0.025567736, 0.030090535, -0.0025293592, -0.022475913, 0.026309503, 0.0015613525, -0.028277718, -0.008067685, -0.037443623, -0.004743132, -0.018572917, 0.022565927, 0.020001926, 0.014717669, 0.0053627267, -0.0059372266, 0.019587217, 0.0077632596, -0.008091099, 0.017023506, -0.009758011, 0.017701598, -0.01824717, -0.039211717, -0.03882106, 0.03327745, -0.021814043, 0.011331389, 0.042326696, -0.012054702, -0.024290318, 0.07067909, 0.026516708, -0.029764952, 0.045554265, -0.030000411, 0.01569776, -0.015998539, 0.050750818, -0.0042431415, -0.04192218, -0.00904794], shard_key=None, order_value=None)], id='d1.txt', lookup=None)])"
      ]
     },
     "execution_count": 187,
     "metadata": {},
     "output_type": "execute_result"
    }
   ],
   "source": [
    "query_result"
   ]
  },
  {
   "cell_type": "code",
   "execution_count": 250,
   "metadata": {},
   "outputs": [],
   "source": [
    "def reducer(acc,item):\n",
    "    key,val = item \n",
    "    acc[key] = acc.get(key,0) + val\n",
    "    return acc"
   ]
  },
  {
   "cell_type": "code",
   "execution_count": 253,
   "metadata": {},
   "outputs": [],
   "source": [
    "from collections import defaultdict\n",
    "from functools import reduce\n",
    "\n"
   ]
  },
  {
   "cell_type": "code",
   "execution_count": 263,
   "metadata": {},
   "outputs": [],
   "source": [
    "all_groups = [ y.payload['source'] for x in query_result.groups for y in x.hits]\n",
    "# if difference is greater than a threshold we will return the top -1 as group  anwser\n",
    "top_group = all_groups[0]\n",
    "all_group_counts = list(map((lambda x : (x,1)), sorted(all_groups)))\n",
    "count_dict = reduce( reducer,all_group_counts,dict(defaultdict()))\n",
    "#res = count_dict.get(max(count_dict, key=count_dict.get))\n"
   ]
  },
  {
   "cell_type": "code",
   "execution_count": 298,
   "metadata": {},
   "outputs": [],
   "source": [
    "def get_unique_max_key(counts):\n",
    "    if not counts:\n",
    "        return None\n",
    "\n",
    "    max_value = max(counts.values())\n",
    "\n",
    "    # Find all keys with the max value\n",
    "    max_keys = [k for k, v in counts.items() if v == max_value]\n",
    "\n",
    "    # Return the key only if it's unique\n",
    "    if len(max_keys) == 1 or all([k1 == max_keys[0] for k1 in max_keys]):\n",
    "        return max_keys[0]\n",
    "    else:\n",
    "        return None"
   ]
  },
  {
   "cell_type": "code",
   "execution_count": 300,
   "metadata": {},
   "outputs": [],
   "source": [
    "res = get_unique_max_key(count_dict)"
   ]
  },
  {
   "cell_type": "code",
   "execution_count": null,
   "metadata": {},
   "outputs": [],
   "source": [
    "# in case there is a clear majority winner  or a max score for one certain group we need to\n",
    "# find a threshold  "
   ]
  },
  {
   "cell_type": "markdown",
   "metadata": {},
   "source": [
    "- in this case we need to return the chunks that are grouped by the majority score key "
   ]
  },
  {
   "cell_type": "code",
   "execution_count": null,
   "metadata": {},
   "outputs": [],
   "source": []
  },
  {
   "cell_type": "markdown",
   "metadata": {},
   "source": [
    "- so now we can return multiple chunks per query \n",
    "- we need a way to group them / rerank them and return a new answer from them"
   ]
  },
  {
   "cell_type": "code",
   "execution_count": null,
   "metadata": {},
   "outputs": [],
   "source": [
    "# > 0.6 threshold  return topk "
   ]
  },
  {
   "cell_type": "markdown",
   "metadata": {},
   "source": [
    "- For very general questions that return many chunks, usually from different sources, meaning there is not a clear unique museum/org given we can define a policy that if the top k are very close and are from different sources then the question is probably general so it needs to be restructured.\n",
    "- for example if the top1 - and top 2 are from different sources then if the top 2 have very small \n",
    "differences in score this suggests that the question is missing important infromation to specify a named entity in the vector database"
   ]
  },
  {
   "cell_type": "markdown",
   "metadata": {},
   "source": [
    "- we can select 0.1 as threshold for difference\n",
    "- on the other hand if all chunks returned are from the same source , then we should probably concatenate them \n",
    "and return them as context (if possible) \n",
    "- or take each of them and return a summary before merging with the others so we do not exceed the context length"
   ]
  },
  {
   "cell_type": "code",
   "execution_count": null,
   "metadata": {},
   "outputs": [],
   "source": [
    "[\"Goulandris Museum of Cycladic Art The Nicholas P. Goulandris Foundation - Museum of Cycladic Art (Greek: Μουσείο Κυκλαδικής τέχνης) is a museum in Athens that houses a notable collection of artifacts of Cycladic art. The museum was founded in 1986 in order to house the collection of Cycladic and Ancient Greek art belonging to Nicholas and Dolly Goulandris.[1] Starting in the early 1960s, the couple collected Greek antiquities, with special interest in the prehistoric art from the Cyclades islands of the Aegean Sea.[2] The museum's main building, erected in the centre of Athens in 1985, was designed by the Greek\",\n",
    " 'public on 20 June 2009.[1] More than 4,250 objects are exhibited over an area of 14,000 square metres. The museum is located by the southeastern slope of the Acropolis hill, on the ancient road that led up to the \"sacred rock\" in classical times. Set only 280 meters (310 yd), away from the Parthenon, and a 400 meters (440 yd) walking distance from it, the museum is the largest modern building erected so close to the ancient site The entrance fee to the museum was €1 for the first year and €5 thereafter. As of 2024, the entrance fee during']"
   ]
  }
 ],
 "metadata": {
  "kernelspec": {
   "display_name": "AgentsEnv",
   "language": "python",
   "name": "python3"
  },
  "language_info": {
   "codemirror_mode": {
    "name": "ipython",
    "version": 3
   },
   "file_extension": ".py",
   "mimetype": "text/x-python",
   "name": "python",
   "nbconvert_exporter": "python",
   "pygments_lexer": "ipython3",
   "version": "3.13.7"
  },
  "orig_nbformat": 4
 },
 "nbformat": 4,
 "nbformat_minor": 2
}
