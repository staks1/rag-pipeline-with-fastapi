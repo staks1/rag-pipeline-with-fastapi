{
 "cells": [
  {
   "cell_type": "markdown",
   "metadata": {},
   "source": [
    "# Testing framework for creating the rag pipeline "
   ]
  },
  {
   "cell_type": "markdown",
   "metadata": {},
   "source": [
    "1. create the collection of text embeddings - we need a qdrant container to start and ignest our documents in a collection\n",
    "let's add 3-4 texts of documents about museums and their information \n",
    "2. send llm prompt + use qdrant method to query the knoweledge base \n",
    "results = client.query_points , check if it has options for top-k or similarity type\n",
    "3. when querying the vector database if all top-k answers are below a threshold then answer with \"i do not know\""
   ]
  },
  {
   "cell_type": "markdown",
   "metadata": {},
   "source": [
    "##### First we have started a qdrant container that is running the vector database, so we need to connect to our database (this is run as a different service, so for now we do not worry about the setup step)"
   ]
  },
  {
   "cell_type": "code",
   "execution_count": 68,
   "metadata": {},
   "outputs": [],
   "source": [
    "import tiktoken\n",
    "import numpy as np "
   ]
  },
  {
   "cell_type": "code",
   "execution_count": 112,
   "metadata": {},
   "outputs": [],
   "source": [
    "from qdrant_client import QdrantClient\n",
    "\n",
    "client = QdrantClient(url=\"http://localhost:6333\")"
   ]
  },
  {
   "cell_type": "markdown",
   "metadata": {},
   "source": [
    "- create simple collection of vectors - choose dim=384 and cosine similarity as distance"
   ]
  },
  {
   "cell_type": "code",
   "execution_count": 111,
   "metadata": {},
   "outputs": [],
   "source": [
    "from qdrant_client.models import Distance, VectorParams,models\n",
    "\n",
    "# client.create_collection(\n",
    "#     collection_name=\"museum_collection\",\n",
    "#     vectors_config=models.VectorParams(size=384, distance=models.Distance.COSINE)\n",
    "#)"
   ]
  },
  {
   "cell_type": "markdown",
   "metadata": {},
   "source": [
    "- we now need to select an embedding model to encode our text documents so we can insert them into the collection\n",
    "- we can use sentence transformers + bge small - en"
   ]
  },
  {
   "cell_type": "markdown",
   "metadata": {},
   "source": [
    "# Questions"
   ]
  },
  {
   "cell_type": "markdown",
   "metadata": {},
   "source": [
    "- another question is how we are going to handle text paragraphs from each document. \n",
    "- let's say we have scraped the urls of 3 greek museums/foundations\n",
    "- each museum/foundation text clearly needs to be a different embedding \n",
    "- additionally how will we handle the large text paragraph for each one ? \n",
    "- we can't create one embedding for each paragraph \n",
    "- so we need to create vectors within each document embedding "
   ]
  },
  {
   "cell_type": "markdown",
   "metadata": {},
   "source": [
    "# We need to experiment for this step\n",
    "- first start by studying our documents "
   ]
  },
  {
   "cell_type": "code",
   "execution_count": 4,
   "metadata": {},
   "outputs": [],
   "source": [
    "from openai import OpenAI\n",
    "import os \n",
    "from dotenv import load_dotenv\n",
    "\n",
    "load_dotenv()\n",
    "\n",
    "api_key = os.environ['OPENAI_API_KEY']\n",
    "client = OpenAI()"
   ]
  },
  {
   "cell_type": "markdown",
   "metadata": {},
   "source": [
    "- A potential idea to explore is based on the assumption that we may have metadata for each museum so we can add those metadata to each embedding part \n",
    "- We will start with this idea\n",
    "- Knowing the museum/foundation name is potentially a strong assumption that needs investigation (maybe an option to use it if it is known)\n",
    "- Based on the Task description we make the assumption first that we can distinguish the texts into different files so we can ingest them per file "
   ]
  },
  {
   "cell_type": "code",
   "execution_count": null,
   "metadata": {},
   "outputs": [],
   "source": [
    "# # create function to ingest the files (split into chunks) paragraphs into the collection \n",
    "# import os \n",
    "# document_sources = os.listdir(\"/home/ko_st/Documents/rag_with_fastapi/rag-pipeline-with-fastapi/data\")\n",
    "# for d in document_sources:\n",
    "#     with open(os.path.join(document_sources,d),\"r\") as df:\n",
    "#         # call function to split document and ingest\n"
   ]
  },
  {
   "cell_type": "markdown",
   "metadata": {},
   "source": [
    "# Study and ingest one document"
   ]
  },
  {
   "cell_type": "code",
   "execution_count": 14,
   "metadata": {},
   "outputs": [],
   "source": [
    "with open(\"/home/ko_st/Documents/rag_with_fastapi/rag-pipeline-with-fastapi/data/d1.txt\",mode=\"r\",encoding=\"utf-8\") as df1:\n",
    "    document_content = df1.read()"
   ]
  },
  {
   "cell_type": "code",
   "execution_count": 15,
   "metadata": {},
   "outputs": [
    {
     "data": {
      "text/plain": [
       "'Acropolis Museum\\nThe Acropolis Museum (Greek: Μουσείο Ακρόπολης, Mouseio Akropolis) is an archaeological museum focused on the findings of the archaeological site of the Acropolis of Athens. The museum was built to house every artifact found on the rock and on the surrounding slopes, from the Greek Bronze Age to Roman and Byzantine Greece. The Acropolis Museum also lies over the ruins of part of Roman and early Byzantine Athens.\\nThe museum was founded in 2003 while the Organization of the Museum was established in 2008. It opened to the public on 20 June 2009.[1] More than 4,250 objects are exhibited over an area of 14,000 square metres.\\nThe museum is located by the southeastern slope of the Acropolis hill, on the ancient road that led up to the \"sacred rock\" in classical times. Set only 280 meters (310 yd), away from the Parthenon, and a 400 meters (440 yd) walking distance from it, the museum is the largest modern building erected so close to the ancient site\\nThe entrance fee to the museum was €1 for the first year and €5 thereafter. As of 2024, the entrance fee during the winter season (1 November through 30 March) is €10, and €15 during the summer season (1 April - 31 October).\\nThe excavation below ground level continues. The site and process are visible through the ground level glass flooring. As of June 2019, the site is available for visitation.\\nThe Acropolis Museum was selected as the motif for a commemorative Euro coin edition: the €10 Greek Acropolis Museum commemorative coin, minted in 2008 to mark the relocation of the museum. On the obverse is a panoramic view of the Acropolis and the new museum lies at the base.\\nReferences\\n \"Wonderful Greece\". Archived from the original on 26 July 2015. Retrieved 13 June 2013.https://web.archive.org/web/20150726210657/http://video.minpress.gr/wwwminpress/Wonderful_Greece/WG_9_3\\nhttps://www.theartnewspaper.com/2025/04/01/the-worlds-most-visited-museums-2024-\\n'"
      ]
     },
     "execution_count": 15,
     "metadata": {},
     "output_type": "execute_result"
    }
   ],
   "source": [
    "document_content"
   ]
  },
  {
   "cell_type": "markdown",
   "metadata": {},
   "source": [
    "### count sample document tokens\n",
    "- This is a required preprocessing step to make an estimation if for example it is possible to encode our whole document paragraph into one embedding or do chunk based approach. Of course this should be generic and changes per document."
   ]
  },
  {
   "cell_type": "code",
   "execution_count": 19,
   "metadata": {},
   "outputs": [],
   "source": [
    "enc = tiktoken.encoding_for_model(\"gpt-4\")\n",
    "\n",
    "token_count = len(enc.encode(document_content))\n"
   ]
  },
  {
   "cell_type": "code",
   "execution_count": 20,
   "metadata": {},
   "outputs": [
    {
     "data": {
      "text/plain": [
       "483"
      ]
     },
     "execution_count": 20,
     "metadata": {},
     "output_type": "execute_result"
    }
   ],
   "source": [
    "token_count"
   ]
  },
  {
   "cell_type": "code",
   "execution_count": 21,
   "metadata": {},
   "outputs": [
    {
     "data": {
      "text/plain": [
       "'Acropolis Museum\\nThe Acropolis Museum (Greek: Μουσείο Ακρόπολης, Mouseio Akropolis) is an archaeological museum focused on the findings of the archaeological site of the Acropolis of Athens. The museum was built to house every artifact found on the rock and on the surrounding slopes, from the Greek Bronze Age to Roman and Byzantine Greece. The Acropolis Museum also lies over the ruins of part of Roman and early Byzantine Athens.\\nThe museum was founded in 2003 while the Organization of the Museum was established in 2008. It opened to the public on 20 June 2009.[1] More than 4,250 objects are exhibited over an area of 14,000 square metres.\\nThe museum is located by the southeastern slope of the Acropolis hill, on the ancient road that led up to the \"sacred rock\" in classical times. Set only 280 meters (310 yd), away from the Parthenon, and a 400 meters (440 yd) walking distance from it, the museum is the largest modern building erected so close to the ancient site\\nThe entrance fee to the museum was €1 for the first year and €5 thereafter. As of 2024, the entrance fee during the winter season (1 November through 30 March) is €10, and €15 during the summer season (1 April - 31 October).\\nThe excavation below ground level continues. The site and process are visible through the ground level glass flooring. As of June 2019, the site is available for visitation.\\nThe Acropolis Museum was selected as the motif for a commemorative Euro coin edition: the €10 Greek Acropolis Museum commemorative coin, minted in 2008 to mark the relocation of the museum. On the obverse is a panoramic view of the Acropolis and the new museum lies at the base.\\nReferences\\n \"Wonderful Greece\". Archived from the original on 26 July 2015. Retrieved 13 June 2013.https://web.archive.org/web/20150726210657/http://video.minpress.gr/wwwminpress/Wonderful_Greece/WG_9_3\\nhttps://www.theartnewspaper.com/2025/04/01/the-worlds-most-visited-museums-2024-\\n'"
      ]
     },
     "execution_count": 21,
     "metadata": {},
     "output_type": "execute_result"
    }
   ],
   "source": [
    "document_content"
   ]
  },
  {
   "cell_type": "markdown",
   "metadata": {},
   "source": [
    "#### let's encode one document  using BGE as one embedding to study the performance of querying and granularity of embedding"
   ]
  },
  {
   "cell_type": "code",
   "execution_count": 27,
   "metadata": {},
   "outputs": [],
   "source": [
    "path = \"/home/ko_st/Documents/rag_with_fastapi/rag-pipeline-with-fastapi/data\"\n",
    "\n",
    "def get_document_content(path):\n",
    "    document_sources = os.listdir(path)\n",
    "    for d in document_sources:\n",
    "        with open(os.path.join(path,d),\"r\") as df:\n",
    "            # call function to split document and ingest\n",
    "            yield df.read()"
   ]
  },
  {
   "cell_type": "code",
   "execution_count": 28,
   "metadata": {},
   "outputs": [],
   "source": [
    "gen = iter(get_document_content(path))"
   ]
  },
  {
   "cell_type": "code",
   "execution_count": 29,
   "metadata": {},
   "outputs": [],
   "source": [
    "doc1 = next(gen)\n",
    "doc2 = next(gen)\n",
    "doc3 = next(gen)"
   ]
  },
  {
   "cell_type": "code",
   "execution_count": 51,
   "metadata": {},
   "outputs": [
    {
     "name": "stderr",
     "output_type": "stream",
     "text": [
      "Fetching 30 files: 100%|██████████| 30/30 [00:00<00:00, 5175.81it/s]\n"
     ]
    }
   ],
   "source": [
    "from FlagEmbedding import BGEM3FlagModel\n",
    "model = BGEM3FlagModel('BAAI/bge-m3',  \n",
    "                       use_fp16=True,\n",
    "                       devices='cpu') # Setting use_fp16 to True speeds up computation with a slight performance degradation\n"
   ]
  },
  {
   "cell_type": "code",
   "execution_count": 52,
   "metadata": {},
   "outputs": [
    {
     "data": {
      "text/plain": [
       "'Goulandris Museum of Cycladic Art\\nThe Nicholas P. Goulandris Foundation - Museum of Cycladic Art (Greek: Μουσείο Κυκλαδικής τέχνης) is a museum in Athens that houses a notable collection of artifacts of Cycladic art.\\n\\nThe museum was founded in 1986 in order to house the collection of Cycladic and Ancient Greek art belonging to Nicholas and Dolly Goulandris.[1] Starting in the early 1960s, the couple collected Greek antiquities, with special interest in the prehistoric art from the Cyclades islands of the Aegean Sea.[2] The museum\\'s main building, erected in the centre of Athens in 1985, was designed by the Greek architect Ioannis Vikelas [el].[3] In 1991, the Museum acquired a new building, the neo-classical Stathatos Mansion at the corner of Vassilissis Sofias Avenue and Herodotou Street.[4]\\n\\nThe museum\\'s permanent collection includes over 3,000 items, and was described in The New York Times as \"one of the world\\'s most significant privately assembled collections of Cycladic antiquities.\"\\nTemporary exhibits are housed in the Stathatos Mansion.[3] The museum\\'s temporary exhibitions have included some of the most important Greek and international modern and contemporary artists.\\nJune–September 2009: Thomas Struth\\nSeptember–October 2009: Palle Nielsen Man, Dream and Fear - Orpheus and Eurydice Through the Eyes of Palle Nielsen\\nMay–September 2010: Louise Bourgeois - Personages\\nFurther reading \\nhttps://en.wikipedia.org/wiki/Goulandris_Museum_of_Cycladic_Art#Further_reading'"
      ]
     },
     "execution_count": 52,
     "metadata": {},
     "output_type": "execute_result"
    }
   ],
   "source": [
    "doc1"
   ]
  },
  {
   "cell_type": "code",
   "execution_count": 78,
   "metadata": {},
   "outputs": [
    {
     "data": {
      "text/plain": [
       "'Acropolis Museum\\nThe Acropolis Museum (Greek: Μουσείο Ακρόπολης, Mouseio Akropolis) is an archaeological museum focused on the findings of the archaeological site of the Acropolis of Athens. The museum was built to house every artifact found on the rock and on the surrounding slopes, from the Greek Bronze Age to Roman and Byzantine Greece. The Acropolis Museum also lies over the ruins of part of Roman and early Byzantine Athens.\\nThe museum was founded in 2003 while the Organization of the Museum was established in 2008. It opened to the public on 20 June 2009.[1] More than 4,250 objects are exhibited over an area of 14,000 square metres.\\nThe museum is located by the southeastern slope of the Acropolis hill, on the ancient road that led up to the \"sacred rock\" in classical times. Set only 280 meters (310 yd), away from the Parthenon, and a 400 meters (440 yd) walking distance from it, the museum is the largest modern building erected so close to the ancient site\\nThe entrance fee to the museum was €1 for the first year and €5 thereafter. As of 2024, the entrance fee during the winter season (1 November through 30 March) is €10, and €15 during the summer season (1 April - 31 October).\\nThe excavation below ground level continues. The site and process are visible through the ground level glass flooring. As of June 2019, the site is available for visitation.\\nThe Acropolis Museum was selected as the motif for a commemorative Euro coin edition: the €10 Greek Acropolis Museum commemorative coin, minted in 2008 to mark the relocation of the museum. On the obverse is a panoramic view of the Acropolis and the new museum lies at the base.\\nReferences\\n \"Wonderful Greece\". Archived from the original on 26 July 2015. Retrieved 13 June 2013.https://web.archive.org/web/20150726210657/http://video.minpress.gr/wwwminpress/Wonderful_Greece/WG_9_3\\nhttps://www.theartnewspaper.com/2025/04/01/the-worlds-most-visited-museums-2024-\\n'"
      ]
     },
     "execution_count": 78,
     "metadata": {},
     "output_type": "execute_result"
    }
   ],
   "source": [
    "doc2"
   ]
  },
  {
   "cell_type": "code",
   "execution_count": 79,
   "metadata": {},
   "outputs": [
    {
     "data": {
      "text/plain": [
       "'Eugenides Foundation\\nThe Eugenides Foundation (Greek: Ίδρυμα Ευγενίδου) is a Greek private educational foundation. It was established in 1956 in Athens, Greece implementing the will of the late Greek benefactor Eugenios Eugenidis, who died in April 1954.\\n\\nThe activity of the foundation, in accordance with its articles of association, is to contribute to the scientific and technological education of young people in Greece. The foundation is administered by a committee of three persons, which is participated by each professor which is elected as a rector of the National Technical University of Athens (NTUA) until the end of his term as a rector. For its multifaceted contribution to Greek society, Eugenides Foundation was honored in December 1965 with the gold medal of the Academy of Athens.\\nActivities\\nThe activities and establishments of the Foundation include:\\n\\na scholarship program granting 20 scholarships annually\\na scientific and technical library,\\na museum of science and technology,\\npublishing of scientific and technical books, with over 45.000.000 copies of books published to date,\\na digital computerized planetarium, of dome diameter 25 m and a total surface of 950 m2, one of the best equipped in the world.\\nlecture halls and auditoriums.\\nhttp://www.eugenfound.edu.gr/'"
      ]
     },
     "execution_count": 79,
     "metadata": {},
     "output_type": "execute_result"
    }
   ],
   "source": [
    "doc3"
   ]
  },
  {
   "cell_type": "code",
   "execution_count": 61,
   "metadata": {},
   "outputs": [],
   "source": [
    "d1_embedding = model.encode([doc1])\n",
    "d2_embedding = model.encode([doc2])\n",
    "d3_embedding = model.encode([doc3])"
   ]
  },
  {
   "cell_type": "code",
   "execution_count": 65,
   "metadata": {},
   "outputs": [
    {
     "data": {
      "text/plain": [
       "((1, 1024), (1, 1024), (1, 1024))"
      ]
     },
     "execution_count": 65,
     "metadata": {},
     "output_type": "execute_result"
    }
   ],
   "source": [
    "d1_embedding['dense_vecs'].shape, d2_embedding['dense_vecs'].shape, d3_embedding['dense_vecs'].shape"
   ]
  },
  {
   "cell_type": "code",
   "execution_count": 94,
   "metadata": {},
   "outputs": [],
   "source": [
    "query = \"when was the goulandris museum founded\" \n",
    "query_embedding = model.encode([query])"
   ]
  },
  {
   "cell_type": "code",
   "execution_count": 88,
   "metadata": {},
   "outputs": [],
   "source": [
    "all_document_embeddings = np.stack([d1_embedding['dense_vecs'],d2_embedding['dense_vecs'],d3_embedding['dense_vecs']]).reshape(-1,1024)"
   ]
  },
  {
   "cell_type": "code",
   "execution_count": 95,
   "metadata": {},
   "outputs": [],
   "source": [
    "similarity = query_embedding['dense_vecs'] @ all_document_embeddings.T\n"
   ]
  },
  {
   "cell_type": "code",
   "execution_count": 96,
   "metadata": {},
   "outputs": [
    {
     "data": {
      "text/plain": [
       "array([[0.6212836 , 0.43497568, 0.35743386]], dtype=float32)"
      ]
     },
     "execution_count": 96,
     "metadata": {},
     "output_type": "execute_result"
    }
   ],
   "source": [
    "similarity"
   ]
  },
  {
   "cell_type": "markdown",
   "metadata": {},
   "source": [
    "#### The most simple approach is first to encode each document as a different embedding into the database so we start with this "
   ]
  },
  {
   "cell_type": "markdown",
   "metadata": {},
   "source": [
    "- This seems like a good foundation for a first simple solution\n",
    "- The model seems to be able to understand the differences between the embeddings"
   ]
  },
  {
   "cell_type": "markdown",
   "metadata": {},
   "source": [
    "### So now based on this idea let's encode the documents and ingest them into our collection"
   ]
  },
  {
   "cell_type": "markdown",
   "metadata": {},
   "source": [
    "# create the collection first "
   ]
  },
  {
   "cell_type": "code",
   "execution_count": 163,
   "metadata": {},
   "outputs": [
    {
     "data": {
      "text/plain": [
       "True"
      ]
     },
     "execution_count": 163,
     "metadata": {},
     "output_type": "execute_result"
    }
   ],
   "source": [
    "model_name = \"BAAI/bge-m3\"\n",
    "client.create_collection(\n",
    "    collection_name=\"museum_collection\",\n",
    "    vectors_config=models.VectorParams(\n",
    "        size=1024,\n",
    "        distance=models.Distance.COSINE\n",
    "    ),  # size and distance are model dependent\n",
    ")"
   ]
  },
  {
   "cell_type": "markdown",
   "metadata": {},
   "source": [
    "# next we need to insert the documents "
   ]
  },
  {
   "cell_type": "code",
   "execution_count": 156,
   "metadata": {},
   "outputs": [],
   "source": [
    "document_sources = os.listdir(\"/home/ko_st/Documents/rag_with_fastapi/rag-pipeline-with-fastapi/data\")\n",
    "\n",
    "path = \"/home/ko_st/Documents/rag_with_fastapi/rag-pipeline-with-fastapi/data\"\n",
    "\n",
    "def get_document_content(path):\n",
    "    document_sources = os.listdir(path)\n",
    "    for i,d in enumerate(document_sources):\n",
    "        with open(os.path.join(path,d),\"r\") as df:\n",
    "            # call function to split document and ingest\n",
    "            yield i,d,df.read()"
   ]
  },
  {
   "cell_type": "code",
   "execution_count": 157,
   "metadata": {},
   "outputs": [],
   "source": [
    "gen = iter(get_document_content(path))"
   ]
  },
  {
   "cell_type": "code",
   "execution_count": 158,
   "metadata": {},
   "outputs": [],
   "source": [
    "metadata_with_docs = [\n",
    "    {\"id\":x[0],\"document\": x[2], \"source\": x[1]} for x in gen \n",
    "]\n"
   ]
  },
  {
   "cell_type": "code",
   "execution_count": 159,
   "metadata": {},
   "outputs": [
    {
     "data": {
      "text/plain": [
       "[{'id': 0,\n",
       "  'document': 'Goulandris Museum of Cycladic Art\\nThe Nicholas P. Goulandris Foundation - Museum of Cycladic Art (Greek: Μουσείο Κυκλαδικής τέχνης) is a museum in Athens that houses a notable collection of artifacts of Cycladic art.\\n\\nThe museum was founded in 1986 in order to house the collection of Cycladic and Ancient Greek art belonging to Nicholas and Dolly Goulandris.[1] Starting in the early 1960s, the couple collected Greek antiquities, with special interest in the prehistoric art from the Cyclades islands of the Aegean Sea.[2] The museum\\'s main building, erected in the centre of Athens in 1985, was designed by the Greek architect Ioannis Vikelas [el].[3] In 1991, the Museum acquired a new building, the neo-classical Stathatos Mansion at the corner of Vassilissis Sofias Avenue and Herodotou Street.[4]\\n\\nThe museum\\'s permanent collection includes over 3,000 items, and was described in The New York Times as \"one of the world\\'s most significant privately assembled collections of Cycladic antiquities.\"\\nTemporary exhibits are housed in the Stathatos Mansion.[3] The museum\\'s temporary exhibitions have included some of the most important Greek and international modern and contemporary artists.\\nJune–September 2009: Thomas Struth\\nSeptember–October 2009: Palle Nielsen Man, Dream and Fear - Orpheus and Eurydice Through the Eyes of Palle Nielsen\\nMay–September 2010: Louise Bourgeois - Personages\\nFurther reading \\nhttps://en.wikipedia.org/wiki/Goulandris_Museum_of_Cycladic_Art#Further_reading',\n",
       "  'source': 'd3.txt'},\n",
       " {'id': 1,\n",
       "  'document': 'Acropolis Museum\\nThe Acropolis Museum (Greek: Μουσείο Ακρόπολης, Mouseio Akropolis) is an archaeological museum focused on the findings of the archaeological site of the Acropolis of Athens. The museum was built to house every artifact found on the rock and on the surrounding slopes, from the Greek Bronze Age to Roman and Byzantine Greece. The Acropolis Museum also lies over the ruins of part of Roman and early Byzantine Athens.\\nThe museum was founded in 2003 while the Organization of the Museum was established in 2008. It opened to the public on 20 June 2009.[1] More than 4,250 objects are exhibited over an area of 14,000 square metres.\\nThe museum is located by the southeastern slope of the Acropolis hill, on the ancient road that led up to the \"sacred rock\" in classical times. Set only 280 meters (310 yd), away from the Parthenon, and a 400 meters (440 yd) walking distance from it, the museum is the largest modern building erected so close to the ancient site\\nThe entrance fee to the museum was €1 for the first year and €5 thereafter. As of 2024, the entrance fee during the winter season (1 November through 30 March) is €10, and €15 during the summer season (1 April - 31 October).\\nThe excavation below ground level continues. The site and process are visible through the ground level glass flooring. As of June 2019, the site is available for visitation.\\nThe Acropolis Museum was selected as the motif for a commemorative Euro coin edition: the €10 Greek Acropolis Museum commemorative coin, minted in 2008 to mark the relocation of the museum. On the obverse is a panoramic view of the Acropolis and the new museum lies at the base.\\nReferences\\n \"Wonderful Greece\". Archived from the original on 26 July 2015. Retrieved 13 June 2013.https://web.archive.org/web/20150726210657/http://video.minpress.gr/wwwminpress/Wonderful_Greece/WG_9_3\\nhttps://www.theartnewspaper.com/2025/04/01/the-worlds-most-visited-museums-2024-\\n',\n",
       "  'source': 'd1.txt'},\n",
       " {'id': 2,\n",
       "  'document': 'Eugenides Foundation\\nThe Eugenides Foundation (Greek: Ίδρυμα Ευγενίδου) is a Greek private educational foundation. It was established in 1956 in Athens, Greece implementing the will of the late Greek benefactor Eugenios Eugenidis, who died in April 1954.\\n\\nThe activity of the foundation, in accordance with its articles of association, is to contribute to the scientific and technological education of young people in Greece. The foundation is administered by a committee of three persons, which is participated by each professor which is elected as a rector of the National Technical University of Athens (NTUA) until the end of his term as a rector. For its multifaceted contribution to Greek society, Eugenides Foundation was honored in December 1965 with the gold medal of the Academy of Athens.\\nActivities\\nThe activities and establishments of the Foundation include:\\n\\na scholarship program granting 20 scholarships annually\\na scientific and technical library,\\na museum of science and technology,\\npublishing of scientific and technical books, with over 45.000.000 copies of books published to date,\\na digital computerized planetarium, of dome diameter 25 m and a total surface of 950 m2, one of the best equipped in the world.\\nlecture halls and auditoriums.\\nhttp://www.eugenfound.edu.gr/',\n",
       "  'source': 'd2.txt'}]"
      ]
     },
     "execution_count": 159,
     "metadata": {},
     "output_type": "execute_result"
    }
   ],
   "source": [
    "metadata_with_docs"
   ]
  },
  {
   "cell_type": "code",
   "execution_count": 164,
   "metadata": {},
   "outputs": [
    {
     "data": {
      "text/plain": [
       "UpdateResult(operation_id=0, status=<UpdateStatus.COMPLETED: 'completed'>)"
      ]
     },
     "execution_count": 164,
     "metadata": {},
     "output_type": "execute_result"
    }
   ],
   "source": [
    "collection_name = \"museum_collection\"\n",
    "client.upsert(\n",
    "    collection_name=collection_name,\n",
    "    points=[\n",
    "        models.PointStruct(\n",
    "            id=doc['id'],\n",
    "            payload = {\"text\":doc['document'],\"id\":doc['id'],\"source\":doc['source']},\n",
    "            vector=model.encode(doc['document'])['dense_vecs'])\n",
    "        for doc in metadata_with_docs\n",
    "    ]\n",
    ")"
   ]
  },
  {
   "cell_type": "markdown",
   "metadata": {},
   "source": [
    "#### ok all documents for our rag pipeline are uploaded"
   ]
  },
  {
   "cell_type": "markdown",
   "metadata": {},
   "source": [
    "let's try some queries "
   ]
  },
  {
   "cell_type": "code",
   "execution_count": 169,
   "metadata": {},
   "outputs": [],
   "source": [
    "query =  \"when was goulandris museum created ?\"\n",
    "query_embedding = model.encode(query)['dense_vecs']"
   ]
  },
  {
   "cell_type": "code",
   "execution_count": null,
   "metadata": {},
   "outputs": [],
   "source": [
    "# we can try simple querying using a top-k"
   ]
  },
  {
   "cell_type": "code",
   "execution_count": 181,
   "metadata": {},
   "outputs": [],
   "source": [
    "top_k = 1\n",
    "query_result = client.query_points(\n",
    "    collection_name=collection_name,\n",
    "    query=query_embedding,\n",
    "    with_vectors=True,\n",
    "    with_payload=True,\n",
    "    limit=top_k, # we can limit the results\n",
    "    score_threshold = 0.55, # we can also set a minumum score for returning results   \n",
    ")\n",
    "\n"
   ]
  },
  {
   "cell_type": "markdown",
   "metadata": {},
   "source": [
    "- To simplify we limit with topk=1 to get back one chunk only\n",
    "- The score threshold is great for returning for example a \"I do not know\" anwser \n",
    "- if the returned chunks have all score below the threshold \n",
    "- then it is easy to just return an empty list and \n",
    "- decide accordingly to return a string \"please add more information/ i am not sure/i do not know\""
   ]
  },
  {
   "cell_type": "markdown",
   "metadata": {},
   "source": [
    "- This is only part of our rag pipeline\n",
    "- having got the answser we now have to feed the result to an llm \n",
    "- together with the prompt (the query text) and get back the final anwser "
   ]
  },
  {
   "cell_type": "markdown",
   "metadata": {},
   "source": [
    "# NOTES \n",
    "- later we can also use filters on the results for example restricting that all anwsers have the same doc_id \n",
    "- which is a logical and required constraint if we ingest different documents and we know that \n",
    "- the concepts/entities are separated per file \n",
    "- we can for example fetch best results and then if the top-k has doc-id = 1 fetch all other chunks having the same doc-id\n",
    "- also when score - threshold is below a score we can return an empty list and never go the gpt \n",
    "(in this case we give full confidence to our knowledge base and no confidence to llm general confidence)\n"
   ]
  },
  {
   "cell_type": "markdown",
   "metadata": {},
   "source": [
    "- we are going to use gpt4.1 for this "
   ]
  },
  {
   "cell_type": "markdown",
   "metadata": {},
   "source": [
    "### create the prompt to the llm and the enriched context"
   ]
  },
  {
   "cell_type": "code",
   "execution_count": 204,
   "metadata": {},
   "outputs": [],
   "source": [
    "def system_prompt() -> str:\n",
    "    \"\"\"\n",
    "    Generates a user prompt for information retrieval task\n",
    "\n",
    "    Args:\n",
    "        text: The text that needs to be corrected\n",
    "\n",
    "    Returns:\n",
    "        str: A formatted user prompt for testing.\n",
    "    \"\"\"\n",
    "    return f\"\"\"You are an culture assistant specialized in information about museuems, cultural foundations and events. You get as input questions and need to anwser with accuracy.\"\"\""
   ]
  },
  {
   "cell_type": "code",
   "execution_count": 206,
   "metadata": {},
   "outputs": [],
   "source": [
    "def user_prompt(question,context) -> str:\n",
    "    \"\"\"\n",
    "    Generates a user prompt for information retrieval task\n",
    "\n",
    "    Args:\n",
    "        text: The text that needs to be corrected\n",
    "\n",
    "    Returns:\n",
    "        str: A formatted user prompt for testing.\n",
    "    \"\"\"\n",
    "    return f\"\"\"Answer the following question using the provided context. \n",
    "If you can't find the answer, do not pretend you know it, but answer \"I don't know\".\n",
    "\n",
    "### Question\n",
    "{question}\n",
    "\n",
    "### Context \n",
    "{context}\n",
    "\"\"\"\n",
    "\n"
   ]
  },
  {
   "cell_type": "markdown",
   "metadata": {},
   "source": [
    "### Offer context information to llm using our retrieved result "
   ]
  },
  {
   "cell_type": "code",
   "execution_count": 199,
   "metadata": {},
   "outputs": [],
   "source": [
    "context = \"\"\n",
    "context += \"\\n\".join([x.payload['text'] for x in query_result.points])"
   ]
  },
  {
   "cell_type": "code",
   "execution_count": 207,
   "metadata": {},
   "outputs": [
    {
     "data": {
      "text/plain": [
       "'Goulandris Museum of Cycladic Art\\nThe Nicholas P. Goulandris Foundation - Museum of Cycladic Art (Greek: Μουσείο Κυκλαδικής τέχνης) is a museum in Athens that houses a notable collection of artifacts of Cycladic art.\\n\\nThe museum was founded in 1986 in order to house the collection of Cycladic and Ancient Greek art belonging to Nicholas and Dolly Goulandris.[1] Starting in the early 1960s, the couple collected Greek antiquities, with special interest in the prehistoric art from the Cyclades islands of the Aegean Sea.[2] The museum\\'s main building, erected in the centre of Athens in 1985, was designed by the Greek architect Ioannis Vikelas [el].[3] In 1991, the Museum acquired a new building, the neo-classical Stathatos Mansion at the corner of Vassilissis Sofias Avenue and Herodotou Street.[4]\\n\\nThe museum\\'s permanent collection includes over 3,000 items, and was described in The New York Times as \"one of the world\\'s most significant privately assembled collections of Cycladic antiquities.\"\\nTemporary exhibits are housed in the Stathatos Mansion.[3] The museum\\'s temporary exhibitions have included some of the most important Greek and international modern and contemporary artists.\\nJune–September 2009: Thomas Struth\\nSeptember–October 2009: Palle Nielsen Man, Dream and Fear - Orpheus and Eurydice Through the Eyes of Palle Nielsen\\nMay–September 2010: Louise Bourgeois - Personages\\nFurther reading \\nhttps://en.wikipedia.org/wiki/Goulandris_Museum_of_Cycladic_Art#Further_reading'"
      ]
     },
     "execution_count": 207,
     "metadata": {},
     "output_type": "execute_result"
    }
   ],
   "source": [
    "context"
   ]
  },
  {
   "cell_type": "markdown",
   "metadata": {},
   "source": [
    "An important point to take into account is that we need to find a way to chunk the context extracted if for example it is too much to fit into the llm \n"
   ]
  },
  {
   "cell_type": "code",
   "execution_count": 202,
   "metadata": {},
   "outputs": [
    {
     "data": {
      "text/plain": [
       "367"
      ]
     },
     "execution_count": 202,
     "metadata": {},
     "output_type": "execute_result"
    }
   ],
   "source": [
    "token_count = len(enc.encode(context))\n",
    "token_count\n"
   ]
  },
  {
   "cell_type": "markdown",
   "metadata": {},
   "source": [
    "#### Now that we have the contextual information as well we neeed to feed it to the llm along with the original query and the prompts "
   ]
  },
  {
   "cell_type": "code",
   "execution_count": 203,
   "metadata": {},
   "outputs": [],
   "source": [
    "import random\n",
    "import time\n",
    "from openai import RateLimitError\n",
    "\n",
    "\n",
    "client = OpenAI()\n",
    "\n",
    "\n",
    "def call_llm_with_retry(func, max_retries: int = 5, initial_delay: int = 4):\n",
    "    \"\"\"\n",
    "    wrapper for llm to handle rate limits\n",
    "    \"\"\"\n",
    "    delay = initial_delay\n",
    "    for attempt in range(max_retries):\n",
    "        try:\n",
    "            return func()\n",
    "        except RateLimitError:\n",
    "            print(f\"Rate limit hit, retrying in {delay}s...\")\n",
    "            time.sleep(delay + random.uniform(0, 0.5))  # small jitter\n",
    "            delay *= 2  # exponential backoff\n",
    "    raise Exception(\"Max retries exceeded\")"
   ]
  },
  {
   "cell_type": "code",
   "execution_count": 209,
   "metadata": {},
   "outputs": [
    {
     "data": {
      "text/plain": [
       "'Goulandris Museum of Cycladic Art\\nThe Nicholas P. Goulandris Foundation - Museum of Cycladic Art (Greek: Μουσείο Κυκλαδικής τέχνης) is a museum in Athens that houses a notable collection of artifacts of Cycladic art.\\n\\nThe museum was founded in 1986 in order to house the collection of Cycladic and Ancient Greek art belonging to Nicholas and Dolly Goulandris.[1] Starting in the early 1960s, the couple collected Greek antiquities, with special interest in the prehistoric art from the Cyclades islands of the Aegean Sea.[2] The museum\\'s main building, erected in the centre of Athens in 1985, was designed by the Greek architect Ioannis Vikelas [el].[3] In 1991, the Museum acquired a new building, the neo-classical Stathatos Mansion at the corner of Vassilissis Sofias Avenue and Herodotou Street.[4]\\n\\nThe museum\\'s permanent collection includes over 3,000 items, and was described in The New York Times as \"one of the world\\'s most significant privately assembled collections of Cycladic antiquities.\"\\nTemporary exhibits are housed in the Stathatos Mansion.[3] The museum\\'s temporary exhibitions have included some of the most important Greek and international modern and contemporary artists.\\nJune–September 2009: Thomas Struth\\nSeptember–October 2009: Palle Nielsen Man, Dream and Fear - Orpheus and Eurydice Through the Eyes of Palle Nielsen\\nMay–September 2010: Louise Bourgeois - Personages\\nFurther reading \\nhttps://en.wikipedia.org/wiki/Goulandris_Museum_of_Cycladic_Art#Further_reading'"
      ]
     },
     "execution_count": 209,
     "metadata": {},
     "output_type": "execute_result"
    }
   ],
   "source": [
    "# let's ask the llm \n",
    "query = \"when was goulandris museum created ?\"\n",
    "context"
   ]
  },
  {
   "cell_type": "code",
   "execution_count": 210,
   "metadata": {},
   "outputs": [],
   "source": [
    "completion = call_llm_with_retry(\n",
    "            lambda: client.chat.completions.create(\n",
    "                model=\"gpt-4.1\",\n",
    "                messages=[\n",
    "                    {\"role\": \"system\", \"content\": system_prompt()},\n",
    "                    {\"role\": \"user\", \"content\": user_prompt(query,context)},\n",
    "                ],\n",
    "                temperature=0.1,\n",
    "                top_p=0.95,\n",
    "            )\n",
    "        )"
   ]
  },
  {
   "cell_type": "code",
   "execution_count": 228,
   "metadata": {},
   "outputs": [
    {
     "data": {
      "text/plain": [
       "'The Goulandris Museum of Cycladic Art was founded in 1986.'"
      ]
     },
     "execution_count": 228,
     "metadata": {},
     "output_type": "execute_result"
    }
   ],
   "source": [
    "completion.choices[0].message.model_dump()['content']"
   ]
  }
 ],
 "metadata": {
  "kernelspec": {
   "display_name": "AgentsEnv",
   "language": "python",
   "name": "python3"
  },
  "language_info": {
   "codemirror_mode": {
    "name": "ipython",
    "version": 3
   },
   "file_extension": ".py",
   "mimetype": "text/x-python",
   "name": "python",
   "nbconvert_exporter": "python",
   "pygments_lexer": "ipython3",
   "version": "3.13.7"
  },
  "orig_nbformat": 4
 },
 "nbformat": 4,
 "nbformat_minor": 2
}
